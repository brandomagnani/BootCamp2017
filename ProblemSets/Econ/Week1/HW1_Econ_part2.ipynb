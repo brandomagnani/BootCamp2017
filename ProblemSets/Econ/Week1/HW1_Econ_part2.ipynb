{
 "cells": [
  {
   "cell_type": "markdown",
   "metadata": {},
   "source": [
    "## ILDEBRANDO MAGNANI\n",
    "\n",
    "## Economics - HW 1, Part 2\n",
    "\n",
    "This is a joint work with Francesco Furno."
   ]
  },
  {
   "cell_type": "code",
   "execution_count": 24,
   "metadata": {},
   "outputs": [],
   "source": [
    "import numpy as np\n",
    "import scipy.optimize as opt\n",
    "from ss import equilibriumss, Wss, Rss, U_prime, c1, c2, c3\n",
    "from dynamics import MU, get_W, get_R, get_WR, MU_C1, MU_C2, MU_C3, b32_error, b_error, Tpi\n",
    "from numpy.linalg import norm\n",
    "import matplotlib.pyplot as plt"
   ]
  },
  {
   "cell_type": "code",
   "execution_count": 25,
   "metadata": {
    "collapsed": true
   },
   "outputs": [],
   "source": [
    "period = 20\n",
    "annual_beta1 = 0.96\n",
    "beta1 = annual_beta1**period\n",
    "annual_beta2 = 0.98\n",
    "beta2 = annual_beta2**period\n",
    "annual_delta = 0.05\n",
    "delta = 1 - (1 - annual_delta)**period\n",
    "sigma = 3\n",
    "A = 1\n",
    "alpha = 0.35\n",
    "L = 2.2"
   ]
  },
  {
   "cell_type": "code",
   "execution_count": 26,
   "metadata": {
    "collapsed": true
   },
   "outputs": [],
   "source": [
    "b_ss_guess = np.array([0.1, 0.1])\n",
    "b_ss1  = opt.fsolve(equilibriumss, b_ss_guess, args=(beta1, sigma, alpha, delta))"
   ]
  },
  {
   "cell_type": "code",
   "execution_count": 27,
   "metadata": {
    "collapsed": true
   },
   "outputs": [],
   "source": [
    "b_initial = np.array([0.8*b_ss1[0], 1.1*b_ss1[1]])\n",
    "K_0 = np.sum(b_initial)\n",
    "K_ss = np.sum(b_ss1)"
   ]
  },
  {
   "cell_type": "code",
   "execution_count": 28,
   "metadata": {
    "collapsed": true
   },
   "outputs": [],
   "source": [
    "eps = 10**(-9)\n",
    "xi = 0.2\n",
    "T = 55\n",
    "params = (beta1, A, delta, sigma, alpha)\n",
    "K_guess = np.linspace(K_0, K_ss, T)"
   ]
  },
  {
   "cell_type": "markdown",
   "metadata": {},
   "source": [
    "### Exercise 5.3:"
   ]
  },
  {
   "cell_type": "code",
   "execution_count": 29,
   "metadata": {},
   "outputs": [
    {
     "name": "stdout",
     "output_type": "stream",
     "text": [
      "Number of Iterations:  132\n"
     ]
    }
   ],
   "source": [
    "K_transition_args = [params, K_guess, L, eps, xi]\n",
    "K_transition = Tpi(b_initial, K_transition_args)"
   ]
  },
  {
   "cell_type": "code",
   "execution_count": 32,
   "metadata": {},
   "outputs": [
    {
     "data": {
      "image/png": "[encoded data removed]",
      "text/plain": [
       "<matplotlib.figure.Figure at 0x11a22bc18>"
      ]
     },
     "metadata": {},
     "output_type": "display_data"
    },
    {
     "data": {
      "text/plain": [
       "(1, 20)"
      ]
     },
     "execution_count": 32,
     "metadata": {},
     "output_type": "execute_result"
    }
   ],
   "source": [
    "t = np.linspace(1, 55, 55)\n",
    "plt.plot(t, K_transition)\n",
    "plt.show()\n",
    "plt.xlim(1, 20)"
   ]
  },
  {
   "cell_type": "markdown",
   "metadata": {},
   "source": [
    "### Exercise 5.4:"
   ]
  },
  {
   "cell_type": "markdown",
   "metadata": {},
   "source": [
    "We can observe that at $T = 6$ the aggregate capital stock is within the 0.0001 of the steady state level. Thus, $T = 6$."
   ]
  },
  {
   "cell_type": "code",
   "execution_count": null,
   "metadata": {
    "collapsed": true
   },
   "outputs": [],
   "source": []
  }
 ],
 "metadata": {
  "kernelspec": {
   "display_name": "Python 3",
   "language": "python",
   "name": "python3"
  },
  "language_info": {
   "codemirror_mode": {
    "name": "ipython",
    "version": 3
   },
   "file_extension": ".py",
   "mimetype": "text/x-python",
   "name": "python",
   "nbconvert_exporter": "python",
   "pygments_lexer": "ipython3",
   "version": "3.6.1"
  }
 },
 "nbformat": 4,
 "nbformat_minor": 2
}
