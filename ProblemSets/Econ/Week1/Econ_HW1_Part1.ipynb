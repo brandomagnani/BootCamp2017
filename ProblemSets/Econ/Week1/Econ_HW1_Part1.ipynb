{
 "cells": [
  {
   "cell_type": "markdown",
   "metadata": {},
   "source": [
    "## ILDEBRANDO MAGNANI\n",
    "\n",
    "## Economics - HW 1, Part 1\n",
    "\n",
    "This is a joint work with Francesco Furno.\n"
   ]
  },
  {
   "cell_type": "code",
   "execution_count": 14,
   "metadata": {},
   "outputs": [],
   "source": [
    "from ss import equilibriumss, Wss, Rss, U_prime, c1, c2, c3\n",
    "import numpy as np\n",
    "import scipy.optimize as opt"
   ]
  },
  {
   "cell_type": "code",
   "execution_count": 15,
   "metadata": {
    "collapsed": true
   },
   "outputs": [],
   "source": [
    "period = 20\n",
    "annual_beta1 = 0.96\n",
    "beta1 = annual_beta1**period\n",
    "annual_beta2 = 0.98\n",
    "beta2 = annual_beta2**period\n",
    "annual_delta = 0.05\n",
    "delta = 1 - (1 - annual_delta)**period\n",
    "sigma = 3\n",
    "A = 1\n",
    "alpha = 0.35"
   ]
  },
  {
   "cell_type": "markdown",
   "metadata": {},
   "source": [
    "### Exercise 5.1:"
   ]
  },
  {
   "cell_type": "code",
   "execution_count": 22,
   "metadata": {},
   "outputs": [],
   "source": [
    "b_ss_guess = np.array([0.1, 0.1])\n",
    "b_ss1  = opt.fsolve(equilibriumss, b_ss_guess, args=(beta1, sigma, alpha, delta))"
   ]
  },
  {
   "cell_type": "code",
   "execution_count": 23,
   "metadata": {},
   "outputs": [
    {
     "name": "stdout",
     "output_type": "stream",
     "text": [
      "Annual beta = 0.96: \n",
      "Steady state wage =   0.201725293596\n",
      "Steady state interest rate =  2.43303025356\n",
      "Steady state savings [ b2  b3] =  [ 0.01931274  0.05841159]\n",
      "Steady state consumption [ c1  c2  c3] =  [ 0.18241256  0.20961491  0.24087382]\n"
     ]
    }
   ],
   "source": [
    "print(\"Annual beta = 0.96: \")\n",
    "print(\"Steady state wage =  \", Wss(b_ss1, alpha))\n",
    "print(\"Steady state interest rate = \", Rss(b_ss1, alpha, delta))\n",
    "\n",
    "print(\"Steady state savings [ b2  b3] = \", b_ss1)\n",
    "print(\"Steady state consumption [ c1  c2  c3] = \", np.array([c1([b_ss1[0], Wss(b_ss1, alpha)]), c2([b_ss1[0], \\\n",
    "                                                   b_ss1[1], Rss(b_ss1, alpha, delta), Wss(b_ss1, alpha)]), \\\n",
    "                                                   c3([b_ss1[1], Rss(b_ss1, alpha,delta), Wss(b_ss1, alpha)])]))"
   ]
  },
  {
   "cell_type": "markdown",
   "metadata": {},
   "source": [
    "### Exercise 5.2:"
   ]
  },
  {
   "cell_type": "code",
   "execution_count": 24,
   "metadata": {
    "collapsed": true
   },
   "outputs": [],
   "source": [
    "b_ss2 = opt.fsolve(equilibriumss, b_ss_guess, args=(beta2, sigma, alpha, delta))"
   ]
  },
  {
   "cell_type": "code",
   "execution_count": 21,
   "metadata": {},
   "outputs": [
    {
     "name": "stdout",
     "output_type": "stream",
     "text": [
      "Annual beta = 0.98: \n",
      "Steady state wage =   0.244670776986\n",
      "Steady state interest rate =  1.5068694042\n",
      "Steady state savings [ b2  b3] =  [ 0.03850152  0.09640958]\n",
      "Steady state consumption [ c1  c2  c3] =  [ 0.20616926  0.24477947  0.29062038]\n"
     ]
    }
   ],
   "source": [
    "print(\"Annual beta = 0.98: \")\n",
    "print(\"Steady state wage =  \", Wss(b_ss2, alpha))\n",
    "print(\"Steady state interest rate = \", Rss(b_ss2, alpha, delta))\n",
    "\n",
    "print(\"Steady state savings [ b2  b3] = \", b_ss2)\n",
    "print(\"Steady state consumption [ c1  c2  c3] = \", np.array([c1([b_ss2[0], Wss(b_ss2, alpha)]), c2([b_ss2[0], \\\n",
    "                                                   b_ss2[1], Rss(b_ss2, alpha, delta), Wss(b_ss2, alpha)]), \\\n",
    "                                                   c3([b_ss2[1], Rss(b_ss2, alpha,delta), Wss(b_ss2, alpha)])]))"
   ]
  },
  {
   "cell_type": "markdown",
   "metadata": {},
   "source": [
    "#### Intuition: \n",
    "\n",
    "An increased $\\beta$ implies that agents discount future consumption relatively less, i.e., agents are more patient . Everything else equal, each agent in generations 1 and 2 is more willing to save today in order to finance greater consumption tomorrow. As a consequence, the equilibrium interest rate has to decrease in order to balance the resulting greater demand for savings. \n",
    "\n",
    "In equilibrium, an increase in aggregate savings implies an equal increase in the aggregate amount of capital rented by firms. Hence, our Cobb-Douglass production function gives a higher marginal product of labor and higher wages. \n",
    "\n",
    "As we see above, numerical results are consistent with the intuition."
   ]
  }
 ],
 "metadata": {
  "kernelspec": {
   "display_name": "Python 3",
   "language": "python",
   "name": "python3"
  },
  "language_info": {
   "codemirror_mode": {
    "name": "ipython",
    "version": 3
   },
   "file_extension": ".py",
   "mimetype": "text/x-python",
   "name": "python",
   "nbconvert_exporter": "python",
   "pygments_lexer": "ipython3",
   "version": "3.6.1"
  }
 },
 "nbformat": 4,
 "nbformat_minor": 2
}
