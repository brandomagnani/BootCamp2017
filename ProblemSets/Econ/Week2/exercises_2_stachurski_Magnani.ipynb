{
 "cells": [
  {
   "cell_type": "markdown",
   "metadata": {},
   "source": [
    "## Exercise Set 2 for OSM \n",
    "\n",
    "### Dynamic Programming with John Stachurski\n",
    "### Ildebrando Magnani, joint work with Francesco Furno"
   ]
  },
  {
   "cell_type": "markdown",
   "metadata": {},
   "source": [
    "Exercises for the [OSM](https://bfi.uchicago.edu/osm) bootcamp dynamic programming section.\n",
    "\n",
    "We will use the following libraries:"
   ]
  },
  {
   "cell_type": "code",
   "execution_count": 1,
   "metadata": {
    "collapsed": true
   },
   "outputs": [],
   "source": [
    "import numpy as np\n",
    "import matplotlib.pyplot as plt\n",
    "import quantecon as qe"
   ]
  },
  {
   "cell_type": "markdown",
   "metadata": {},
   "source": [
    "### Exercise 1"
   ]
  },
  {
   "cell_type": "markdown",
   "metadata": {},
   "source": [
    "Consider the setting of the [stochastic optimal growth model](https://lectures.quantecon.org/py/optgrowth.html), with the same notation and same assumptions on the primitives $u$, $f$, $\\beta$ and $\\phi$. \n",
    "\n",
    "Let $\\mathscr C$ be all continuous bounded functions on $\\mathbb R_+$.\n",
    "\n",
    "Let $\\sigma \\in \\Sigma$ be any feasible policy and let $U$ be the operator from $\\mathscr C$ to itself defined by\n",
    "\n",
    "$$ Uw(y) = u(\\sigma(y)) + \\beta \\int w(f(y - \\sigma(y))z) \\phi(dz) \\qquad (y \\in \\mathbb R_+)$$\n",
    "\n",
    "Prove that $U$ is a contraction mapping with respect to the supremum distance.  Argue that the unique fixed point of $U$ in $\\mathscr C$ is $v_\\sigma$.\n",
    "\n",
    "(\"Argue\" means provide a sketch of a proof that contains the key ideas, plus some intuition.  Or give a complete, formal proof, if you can.)"
   ]
  },
  {
   "cell_type": "markdown",
   "metadata": {},
   "source": [
    "## Solution to Exercise 1"
   ]
  },
  {
   "cell_type": "markdown",
   "metadata": {},
   "source": [
    "There are two ways to show that $U$ is a contraction mapping with respect to the supremum distance. The first one is to appeal to Blackwell's theorem. To do that, it suffices to show that $U$ satisfies both the monotonicity and the discounting conditions.\n",
    "\n",
    "The other way is to prove directly the definition of a contraction map. Let $w,v$ be continuous bounded functions on $\\mathbb R_+$:\n",
    "\n",
    "$$ d_{\\infty}(Uw,Uv) = sup \\left| Uw - Uv \\right| $$\n",
    "\n",
    "$$ = sup \\left| \\beta \\int [ w - v ] \\right| $$\n",
    "\n",
    "$$ = \\beta sup \\left| \\int [ w - v ] \\right| $$\n",
    "\n",
    "$$ \\leq \\beta sup \\int \\left| [w - v] \\right| $$\n",
    "\n",
    "$$ \\leq  \\beta sup \\left| w - v \\right| $$\n",
    "\n",
    "$$ = \\beta d_{\\infty}(w,v) $$\n",
    "\n",
    "Where the last inequality follows from the fact that the integral is an expectation. Since $\\beta \\in (0,1)$, $U(.)$ is a contraction map.\n",
    "\n",
    "Since $U(.)$ is a contraction map on a complete metric space, by the Contraction Mapping Theorem it has a unique fixed point. Call this fixed point $v$. Then:\n",
    "\n",
    "$$ Uv = v \\Rightarrow v(y) = u(\\sigma(y)) + \\beta \\int v(f(y - \\sigma(y)z) $$\n",
    "\n",
    "Notice that in every period we have that $y' = f(y - \\sigma(y))z$, where $y$ stands for the current period value and $y'$ stands for next period value. Therefore we have that:\n",
    "\n",
    "$$v(y) = u(\\sigma(y)) + \\beta \\int v(y') $$\n",
    "\n",
    "$$ = u(\\sigma(y)) + \\beta \\int \\left[ u(\\sigma(y')) + \\beta \\int v(y'') \\right] $$\n",
    "\n",
    "$$ = u(\\sigma(y)) + \\beta \\int u(\\sigma(y')) + \\beta^2 \\int u(\\sigma(y'')) + ...  $$\n",
    "\n",
    "$$  = \\mathbb{E} \\sum_t \\beta^t u(\\sigma(y_t)) = v_{\\sigma} $$\n"
   ]
  },
  {
   "cell_type": "markdown",
   "metadata": {},
   "source": [
    "### Exercise 2"
   ]
  },
  {
   "cell_type": "markdown",
   "metadata": {},
   "source": [
    "Notation and concepts continue from exercise 2.\n",
    "\n",
    "Use the fact you proved in exercise 2, combined with piecewise linear interpolation method we used for the Bellman operator, to compute and plot good approximations of the value $v_\\sigma$ of the policies\n",
    "\n",
    "* $\\sigma_1(y) = 0.95 y$\n",
    "* $\\sigma_2(y) = H(y) y$ where $H$ is the cdf of the lognormal $LN(0, 0.5)$ distribution.\n",
    "\n",
    "For the latter use `scipy.stats.lognorm.cdf(y, 0.5)`\n",
    "\n",
    "For the primitives, use the default specification in the `LogLinearOG` class from the [stochastic optimal growth model lecture](https://lectures.quantecon.org/py/optgrowth.html).\n",
    "\n",
    "Plot your results, choosing grid and plotting dimensions to best illustrate the two functions.  Based on the plot alone, argue that neither of these policies is an optimal policy."
   ]
  },
  {
   "cell_type": "markdown",
   "metadata": {
    "collapsed": true
   },
   "source": [
    "## Solutions to Exercise 2"
   ]
  },
  {
   "cell_type": "code",
   "execution_count": 40,
   "metadata": {},
   "outputs": [
    {
     "data": {
      "image/png": "[encoded data removed]",
      "text/plain": [
       "<matplotlib.figure.Figure at 0x23efaada780>"
      ]
     },
     "metadata": {},
     "output_type": "display_data"
    },
    {
     "name": "stderr",
     "output_type": "stream",
     "text": [
      "C:\\Users\\Francesco\\Anaconda3\\lib\\site-packages\\ipykernel_launcher.py:13: RuntimeWarning: divide by zero encountered in log\n",
      "  del sys.path[0]\n"
     ]
    },
    {
     "data": {
      "image/png": "[encoded data removed]",
      "text/plain": [
       "<matplotlib.figure.Figure at 0x23efa44a6a0>"
      ]
     },
     "metadata": {},
     "output_type": "display_data"
    }
   ],
   "source": [
    "import numpy as np\n",
    "import matplotlib.pyplot as plt\n",
    "import scipy.stats\n",
    "\n",
    "# Parameters \n",
    "alpha=0.4\n",
    "beta=0.96\n",
    "mu=0\n",
    "s=0.1\n",
    "\n",
    "# Utility Function\n",
    "def u(x):\n",
    "    return np.log(x)\n",
    "\n",
    "# Production Function\n",
    "def f(x):\n",
    "    return x**alpha \n",
    "\n",
    "# Policy Function 1\n",
    "def sigma1(x):\n",
    "    return 0.95*x\n",
    "\n",
    "# Policy Function 2\n",
    "def sigma2(x):\n",
    "    return scipy.stats.lognorm.cdf(x, 0.5)*x\n",
    "\n",
    "\n",
    "# Grid Preparation\n",
    "gridmin = 0.000000001\n",
    "gridmax = 5\n",
    "gridpoints = 250\n",
    "grid = np.linspace(gridmin, gridmax, gridpoints)\n",
    "shock_size = 250 \n",
    "shocks = np.exp(mu + s * np.random.randn(shock_size))\n",
    "\n",
    "# Operator\n",
    "def operator(w, grid, beta, u, f, sigma, shocks, Tw=None):\n",
    "    if Tw == None:\n",
    "        Tw = np.empty_like(w)\n",
    "    w = w.flatten()\n",
    "    w_linfunc= lambda x: np.interp(x, grid, w)     # Interpolation\n",
    "\n",
    "    for i,value in enumerate(grid):\n",
    "        Tw[i] = u(sigma(value)) + beta * np.mean(w_linfunc(f(value - sigma(value)) * shocks))\n",
    "    return Tw\n",
    "\n",
    "\n",
    "\n",
    "# Finding the fixed point (i.e. the policy value function)\n",
    "def fixedpoint(operator, w, grid, beta, u, f, sigma, shocks, tolerance):\n",
    "    error = 1\n",
    "    while (error > tolerance):\n",
    "        Tw = operator(w, grid, beta, u, f, sigma, shocks)\n",
    "        Tw = Tw.reshape(gridpoints, 1)\n",
    "        error = np.max(Tw-w)  # using the sup norm as a metric\n",
    "        w = Tw                # preparing for next iteration\n",
    "    return w\n",
    "\n",
    "w0 = np.zeros(gridpoints)  # Initial guess\n",
    "v1 = fixedpoint(operator, w0, grid, beta, u, f, sigma1, shocks,0.00000001) \n",
    "plt.plot(grid, v1)\n",
    "plt.xlabel('state y')\n",
    "plt.ylabel('$v_{\\sigma1}$')\n",
    "plt.title('Value Function under $\\sigma(y)$ = 0.95y')\n",
    "plt.show()\n",
    "\n",
    "v2 = fixedpoint(operator, w0, grid, beta, u, f, sigma2, shocks, 0.00000001) \n",
    "plt.plot(grid, v2)\n",
    "plt.xlabel('state y')\n",
    "plt.ylabel('$v_{\\sigma2}$')\n",
    "plt.title('Value Function under $\\sigma(y)$ = H(y)y')\n",
    "plt.show()\n"
   ]
  },
  {
   "cell_type": "markdown",
   "metadata": {},
   "source": [
    "Clearly, among the two suggested policies, the first one is the optimal one: this is because as production increases, the second policy leads to a reduction in the total utility of the problem. Such a behavior is clearly inefficient."
   ]
  },
  {
   "cell_type": "code",
   "execution_count": null,
   "metadata": {
    "collapsed": true
   },
   "outputs": [],
   "source": []
  }
 ],
 "metadata": {
  "kernelspec": {
   "display_name": "Python 3",
   "language": "python",
   "name": "python3"
  },
  "language_info": {
   "codemirror_mode": {
    "name": "ipython",
    "version": 3
   },
   "file_extension": ".py",
   "mimetype": "text/x-python",
   "name": "python",
   "nbconvert_exporter": "python",
   "pygments_lexer": "ipython3",
   "version": "3.6.1"
  }
 },
 "nbformat": 4,
 "nbformat_minor": 2
}
