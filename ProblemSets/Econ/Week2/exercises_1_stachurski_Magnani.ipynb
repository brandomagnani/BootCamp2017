﻿{
 "cells": [
  {
   "cell_type": "markdown",
   "metadata": {},
   "source": [
    "## Exercise Set 1 for OSM \n",
    "\n",
    "### Dynamic Programming with John Stachurski\n",
    "### Ildebrando Magnani, joint work with Francesco Furno"
   ]
  },
  {
   "cell_type": "markdown",
   "metadata": {},
   "source": [
    "This notebook contains the first set of exercises for the [OSM](https://bfi.uchicago.edu/osm) bootcamp dynamic programming section.\n",
    "\n",
    "We will use the following libraries:"
   ]
  },
  {
   "cell_type": "code",
   "execution_count": 2,
   "metadata": {
    "collapsed": true
   },
   "outputs": [],
   "source": [
    "import numpy as np\n",
    "import matplotlib.pyplot as plt"
   ]
  },
  {
   "cell_type": "markdown",
   "metadata": {},
   "source": [
    "### Exercise 1\n",
    "\n",
    "Consider the data"
   ]
  },
  {
   "cell_type": "code",
   "execution_count": 3,
   "metadata": {
    "collapsed": true
   },
   "outputs": [],
   "source": [
    "A = [[0.6, 0.1, -0.3],\n",
    "     [0.5, -0.4, 0.2],\n",
    "     [1.0, -0.2, 1.1]]\n",
    "\n",
    "b = [[12],\n",
    "     [10],\n",
    "     [-1]]\n",
    "\n",
    "A, b = map(np.asarray, (A, b))"
   ]
  },
  {
   "cell_type": "markdown",
   "metadata": {
    "collapsed": true
   },
   "source": [
    "The equation $x = A x + b$ has a unique solution in $\\mathbb R^3$.  Show that this is true by checking the spectral radius condition."
   ]
  },
  {
   "cell_type": "code",
   "execution_count": 4,
   "metadata": {},
   "outputs": [
    {
     "name": "stdout",
     "output_type": "stream",
     "text": [
      "0.965538166352\n"
     ]
    }
   ],
   "source": [
    "from scipy.linalg import eigvals, solve\n",
    "evs = eigvals(A)\n",
    "ρ = max(abs(evs))\n",
    "print(ρ)"
   ]
  },
  {
   "cell_type": "markdown",
   "metadata": {},
   "source": [
    "Compute the solution using both successive approximations --- that is,\n",
    "\n",
    "$$ x_{t+1} = A x_t + b $$\n",
    "\n",
    "and matrix algebra."
   ]
  },
  {
   "cell_type": "markdown",
   "metadata": {},
   "source": [
    "## Solution to exercise 1"
   ]
  },
  {
   "cell_type": "markdown",
   "metadata": {},
   "source": [
    "$ x = Ax + b$ \n",
    "\n",
    "$ (I-A)x = b$\n",
    "\n",
    "if the matrix $(I-A)$ is invertible, then we have that:\n",
    "\n",
    "$ x = (I-A)^{-1}b $\n",
    "\n",
    "A sufficient condition for the matrix $(I-A)$ to be invertible is that the matrix $A$ has all its eigenvalues inside the unit circle. Therefore, since the spectral radius of $A$ equals $0.9656 < 1$ we have a unique solution. \n",
    "The direct computation yields:"
   ]
  },
  {
   "cell_type": "code",
   "execution_count": 7,
   "metadata": {},
   "outputs": [
    {
     "data": {
      "text/plain": [
       "array([[ -0.89552239],\n",
       "       [ 13.34328358],\n",
       "       [ 45.64179104]])"
      ]
     },
     "execution_count": 7,
     "metadata": {},
     "output_type": "execute_result"
    }
   ],
   "source": [
    "I = np.eye(3)\n",
    "inverse = np.linalg.inv(I-A)\n",
    "x = np.dot(inverse,b)\n",
    "x"
   ]
  },
  {
   "cell_type": "markdown",
   "metadata": {},
   "source": [
    "Let's now compute the value of x with an iterative computational method. Since the eigenvalues of $A$ are all inside the unit circle, the iterative procedure converges no matter what the initial condition is. Therefore I will specify a generic starting point for the computation:\n",
    "\n",
    "$x_0 = [0,0,0]$\n",
    "\n",
    "and iterate the following recursive equation:\n",
    "\n",
    "$x_{n+1} = Ax_n + b$\n",
    "\n",
    "until $d(x_{n+1},x_n)< \\varepsilon$, for $\\varepsilon$ small enough, where the metric used is the standard Euclidean distance."
   ]
  },
  {
   "cell_type": "code",
   "execution_count": 15,
   "metadata": {},
   "outputs": [
    {
     "name": "stdout",
     "output_type": "stream",
     "text": [
      "Error equals\n",
      "[[  9.64401524e-09]]\n",
      "Solution equals\n",
      "[[ -0.89552237]\n",
      " [ 13.34328358]\n",
      " [ 45.64179102]]\n"
     ]
    }
   ],
   "source": [
    "epsilon = 0.00000001\n",
    "xm = [0,0,0]\n",
    "xm = np.asarray(xm)\n",
    "xm = np.reshape(xm, (3,1))\n",
    "error = 100\n",
    "while (error>epsilon):\n",
    "    xn = np.dot(A, xm) + b\n",
    "    deviation = xn-xm\n",
    "    xm = xn\n",
    "    error = np.sqrt(np.dot(deviation.T, deviation))\n",
    "\n",
    "print('Error equals:')\n",
    "print(error)\n",
    "print('Solution equals:')\n",
    "print(xm)\n"
   ]
  },
  {
   "cell_type": "code",
   "execution_count": 8,
   "metadata": {},
   "outputs": [
    {
     "name": "stdout",
     "output_type": "stream",
     "text": [
      "Analytical solution\n",
      "[[ -0.89552239]\n",
      " [ 13.34328358]\n",
      " [ 45.64179104]]\n",
      "Iterative solution\n",
      "[[ -0.89552237]\n",
      " [ 13.34328358]\n",
      " [ 45.64179102]]\n"
     ]
    }
   ],
   "source": [
    "print('Analytical solution')\n",
    "print(x)\n",
    "print('Iterative solution')\n",
    "print(xm)"
   ]
  },
  {
   "cell_type": "markdown",
   "metadata": {},
   "source": [
    "## Exercise 2"
   ]
  },
  {
   "cell_type": "markdown",
   "metadata": {},
   "source": [
    "In a standard job search model, an agent \n",
    "\n",
    "\n",
    "* receives offer $w_t$ in period $t$ where $\\{w_t\\}$ is  iid\n",
    "* accepts this offer at time $t$ or remains unemployed\n",
    "    *  if remains unemployed, then receives compensation $c > 0$\n",
    "    * if accepts, then works indefinitely at this wage\n",
    "\n",
    "The agent discounts the future at rate $\\beta \\in (0, 1)$\n",
    "\n",
    "\n",
    "It can be shown that the following is an optimal strategy: \n",
    "\n",
    "* Set a reservation wage $\\bar w$\n",
    "* Accept the first offer $w_t$ such that $w_t \\geq \\bar w$\n",
    "\n",
    "\n",
    "It can also be shown (details omitted) that $\\bar w$ should satisfy\n",
    "\n",
    "$$\n",
    "    \\bar w\n",
    "    = c (1-\\beta) + \\beta\n",
    "    \\sum_{k=1}^K \\max \\left\\{\n",
    "        w_k ,\\, \\bar w\n",
    "    \\right\\}\n",
    "    \\, p_k\n",
    "$$\n",
    "\n",
    "Here \n",
    "\n",
    "* $w_1, \\ldots, w_K$ are the possible wage values, occuring with probabilities $p_1, \\ldots, p_K$\n",
    "* $c > 0$\n",
    "\n",
    "Does there always exists a $x \\in [0, \\infty)$ that solves the equation\n",
    "$$\n",
    "    x\n",
    "    = c (1-\\beta) + \\beta\n",
    "    \\sum_{k=1}^K \\max \\left\\{\n",
    "        w_k ,\\, x\n",
    "    \\right\\}\n",
    "    \\, p_k\n",
    "$$\n",
    "Is it unique?  Suggest a strategy for computing it"
   ]
  },
  {
   "cell_type": "markdown",
   "metadata": {},
   "source": [
    "#### Hints\n",
    "\n",
    "There are different ways to show this, but I found the following facts useful:\n",
    "\n",
    "*  If $x_1, \\ldots, x_K$ are any $K$ numbers, then\n",
    "\n",
    "$$ \\left| \\sum_{k=1}^K x_k \\right| \\leq \\sum_{k=1}^K |x_k| $$\n",
    "\n",
    "* For any $a, x, y$ in $\\mathbb R$, \n",
    "    \n",
    "$$ \n",
    "    \\left| \n",
    "            \\max \\left\\{ a,\\, x \\right\\} - \\max \\left\\{ a,\\, y \\right\\} \n",
    "        \\right|\n",
    "        \\leq | x - y |\n",
    "$$\n",
    "\n",
    "\n",
    "You can convince yourself of the second inequality by sketching and checking different cases..."
   ]
  },
  {
   "cell_type": "markdown",
   "metadata": {},
   "source": [
    "## Solution to Exercise 2"
   ]
  },
  {
   "cell_type": "markdown",
   "metadata": {},
   "source": [
    "Let $$\n",
    "    T(x)\n",
    "    = c (1-\\beta) + \\beta   \\sum_{k=1}^K \\max \\left\\{ w_k ,\\, x    \\right\\}  \\, p_k\n",
    "$$\n",
    "I will prove that $T: \\mathbb{R_+} \\rightarrow \\mathbb{R_+}$ is a contraction map. If this is the case, since $\\mathbb{R_+}$ endowed with the Euclidean distance, $d(x,y) = |x-y|$, is a complete metric space, by the Contraction Mapping Theorem, $T(.)$ as a unique fixed point, which can be reached iterating over $T(.)$.\n",
    "\n",
    "To show that $T(.)$ is a contraction I want to show that there exists some $\\beta \\in (0,1)$ such that, for all $x,y$:\n",
    "\n",
    "$$ d(T(x),T(y)) = |T(x) - T(y)| \\leq \\beta |x - y| = \\beta d(x,y) $$\n",
    "\n",
    "It is easy to show that:\n",
    "\n",
    "$$ |T(x) - T(y)| = \\left| \\beta  \\sum_{k=1}^K \\max \\left\\{ w_k ,\\, x    \\right\\}  \\, p_k - \\beta  \\sum_{k=1}^K \\max \\left\\{ w_k ,\\, y\n",
    "\\right\\}  \\, p_k \\right|  $$\n",
    "\n",
    "$$ \\leq \\left|  \\sum_{k=1}^K \\beta p_k (\\max \\left\\{ w_k ,\\, x   \\right\\} - \\max \\left\\{ w_k ,\\, y   \\right\\}) \\right|   $$\n",
    "\n",
    "$$ \\leq \\sum_{k=1}^K \\beta p_k \\left| \\max \\left\\{ w_k ,\\, x   \\right\\} - \\max \\left\\{ w_k ,\\, y   \\right\\} \\right| $$\n",
    "\n",
    "$$ \\leq \\beta  \\sum_{k=1}^K p_k \\left| \\max \\left\\{ w_k ,\\, x   \\right\\} - \\max \\left\\{ w_k ,\\, y   \\right\\} \\right| $$\n",
    "\n",
    "$$ \\leq \\beta  \\sum_{k=1}^K p_k \\left| x-y \\right| $$\n",
    "$$ = \\beta  \\left| x-y \\right|  \\sum_{k=1}^K p_k $$\n",
    "$$ = \\beta  \\left| x-y \\right|  = \\beta d(x,y)$$\n",
    "\n",
    "therefore, $T(.)$ is a contraction map. Applying the Contraction Mapping Theorem we learn that:\n",
    "\n",
    "1) There is a unique fixed point of T(.), therefore a unique solution to our equation;\n",
    "\n",
    "\n",
    "2) We can compute such a solution iteratively. To do so, start from a guess for $x$, say $x_0 = 0$, and iterate the following equation:\n",
    "\n",
    "$$ x_{n+1} = T(x_n) = T^n(x_0) $$\n",
    "\n",
    "until convergence."
   ]
  },
  {
   "cell_type": "markdown",
   "metadata": {},
   "source": [
    "### Exercise 3"
   ]
  },
  {
   "cell_type": "markdown",
   "metadata": {},
   "source": [
    "Let \n",
    "\n",
    "* $\\beta = 0.96$\n",
    "* $(w_1, w_2, w_3) = (0.5, 1.0, 1.5)$\n",
    "* $(p_1, p_2, p_3) = (0.2, 0.4, 0.4)$\n",
    "\n",
    "Compute and plot the reservation wage for unemployment compensation values"
   ]
  },
  {
   "cell_type": "code",
   "execution_count": 20,
   "metadata": {
    "collapsed": true
   },
   "outputs": [],
   "source": [
    "c_vals = np.linspace(1, 2, 100)"
   ]
  },
  {
   "cell_type": "markdown",
   "metadata": {},
   "source": [
    "Is the reservation wage increasing or decreasing in this value?  Does that coincide with your intuition?"
   ]
  },
  {
   "cell_type": "markdown",
   "metadata": {
    "collapsed": true
   },
   "source": [
    "## Solution to exercise 3"
   ]
  },
  {
   "cell_type": "code",
   "execution_count": 35,
   "metadata": {
    "collapsed": true
   },
   "outputs": [],
   "source": [
    "# Defining parameters\n",
    "beta = 0.96\n",
    "w1 = 0.5\n",
    "w2 = 1.0\n",
    "w3 = 1.5\n",
    "p1 = 0.2\n",
    "p2 = 0.4\n",
    "p3 = 0.4\n",
    "\n",
    "# Defining the self-map\n",
    "def T(x, c):\n",
    "    xn = c*(1-beta) + beta*(max(w1, x)*p1 + max(w2, x)*p2 + max(w3, x)*p3)\n",
    "    return xn\n",
    "\n",
    "# Computing the fixed point of the self-map iteratively\n",
    "def fixedpoint(x, c, error=100, tolerance = 0.00001):\n",
    "    xm = x\n",
    "    while (error > tolerance):\n",
    "        xn = T(xm, c)\n",
    "        error = np.abs(xn-xm)\n",
    "        xm = xn\n",
    "    return xn\n"
   ]
  },
  {
   "cell_type": "code",
   "execution_count": 34,
   "metadata": {},
   "outputs": [
    {
     "data": {
      "image/png": "[encoded data removed]",
      "text/plain": [
       "<matplotlib.figure.Figure at 0x1b5fc194b00>"
      ]
     },
     "metadata": {},
     "output_type": "display_data"
    }
   ],
   "source": [
    "# Computing the reservation wage for each value of c\n",
    "wage = []\n",
    "for c in c_vals:\n",
    "    staff = fixedpoint(0, c)\n",
    "    wage.append(staff)\n",
    "\n",
    "# Plotting the results\n",
    "plt.plot(c_vals, wage)\n",
    "plt.title('Reservation wage as a function of unemployment compensation')\n",
    "plt.xlabel('unemployment compensation')\n",
    "plt.ylabel('reservation wage')\n",
    "plt.show()"
   ]
  },
  {
   "cell_type": "markdown",
   "metadata": {},
   "source": [
    "The reservation wage increases with unemployment compensations. This conforms to intuition as the unemployed worker as a better outside option, so that he demands a higher wage in order to accept the job. The interesting thing is the kink that occurs around the point $c=1.5$: above this value the sensitivity of the reservation wage with respect to the the unemployment benefits is much higher than below it."
   ]
  }
 ],
 "metadata": {
  "kernelspec": {
   "display_name": "Python 3",
   "language": "python",
   "name": "python3"
  },
  "language_info": {
   "codemirror_mode": {
    "name": "ipython",
    "version": 3
   },
   "file_extension": ".py",
   "mimetype": "text/x-python",
   "name": "python",
   "nbconvert_exporter": "python",
   "pygments_lexer": "ipython3",
   "version": "3.6.1"
  }
 },
 "nbformat": 4,
 "nbformat_minor": 2
}
