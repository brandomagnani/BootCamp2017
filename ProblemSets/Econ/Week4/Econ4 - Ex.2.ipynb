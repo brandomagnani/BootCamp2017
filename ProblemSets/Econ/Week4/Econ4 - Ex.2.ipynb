{
 "cells": [
  {
   "cell_type": "markdown",
   "metadata": {},
   "source": [
    "# Ildebrando Magnani\n",
    "\n",
    "## Econ - Problem Set 4 "
   ]
  },
  {
   "cell_type": "markdown",
   "metadata": {},
   "source": [
    "### Exercise 2:"
   ]
  },
  {
   "cell_type": "code",
   "execution_count": 1,
   "metadata": {
    "collapsed": true
   },
   "outputs": [],
   "source": [
    "import numpy as np\n",
    "import scipy.stats as sts\n",
    "import matplotlib.pyplot as plt\n",
    "import numpy as np\n",
    "import numpy.linalg as lin\n",
    "import scipy.integrate as intgr\n",
    "import scipy.optimize as opt\n",
    "from mpl_toolkits.mplot3d import Axes3D\n",
    "from matplotlib import cm\n",
    "from math import gamma\n",
    "from scipy.special import beta"
   ]
  },
  {
   "cell_type": "code",
   "execution_count": 2,
   "metadata": {},
   "outputs": [],
   "source": [
    "macro_data = np.loadtxt('MacroSeries.txt', delimiter = ',')\n",
    "C_t = macro_data[:,0]\n",
    "K_t = macro_data[:,1]\n",
    "W_t = macro_data[:,2]\n",
    "R_t = macro_data[:,3]"
   ]
  },
  {
   "cell_type": "code",
   "execution_count": 3,
   "metadata": {
    "collapsed": true
   },
   "outputs": [],
   "source": [
    "beta = 0.99"
   ]
  },
  {
   "cell_type": "markdown",
   "metadata": {},
   "source": [
    "### a):"
   ]
  },
  {
   "cell_type": "code",
   "execution_count": 4,
   "metadata": {},
   "outputs": [],
   "source": [
    "def Z_series(K_series, W_series, alpha):\n",
    "    \n",
    "    Z_series = np.log(W_series) - alpha * np.log(K_series) - np.log(1-alpha)\n",
    "    \n",
    "    return Z_series\n",
    "\n",
    "\n",
    "def log_lik(K_series, W_series, params):\n",
    "    \n",
    "    alpha, rho, mu, sigma = params\n",
    "    log_pdf_list = []\n",
    "    \n",
    "    Z = Z_series(K_series, W_series, alpha)\n",
    "    Z = np.insert(Z, 0, mu)\n",
    "    \n",
    "    for t, z in  enumerate(Z):\n",
    "        \n",
    "        if t > 0:\n",
    "            \n",
    "            mean = rho * Z[t-1] + (1-rho) * mu\n",
    "            pdf_t = sts.norm.pdf(Z[t], loc=(mean), scale=(sigma**2))\n",
    "             \n",
    "            if pdf_t == 0:\n",
    "                \n",
    "                pdf_t = 1e-10\n",
    "            \n",
    "            log_pdf_t = np.log(pdf_t)\n",
    "            log_pdf_list.append(log_pdf_t)\n",
    "            \n",
    "    log_pdf_array = np.asarray(log_pdf_list)\n",
    "    log_lik = np.sum(log_pdf_array)\n",
    "    \n",
    "    return log_lik   \n",
    "\n",
    "\n",
    "def crit(params, K_series, W_series):\n",
    "    \n",
    "    LL = log_lik(K_series, W_series, params)\n",
    "    \n",
    "    return -LL"
   ]
  },
  {
   "cell_type": "code",
   "execution_count": 5,
   "metadata": {},
   "outputs": [],
   "source": [
    "alpha_0 = 0.35\n",
    "rho_0   = 0.5\n",
    "mu_0    = 6\n",
    "sigma_0 = 0.4\n",
    "\n",
    "params_init = (alpha_0, rho_0, mu_0, sigma_0)\n",
    "MLE_args = (K_t, W_t)\n",
    "\n",
    "results = opt.minimize(crit, params_init, args=(MLE_args), method='L-BFGS-B', \n",
    "                            bounds=((1e-10, 0.9999999), (-0.9999999, 0.9999999), (1e-10, None), (1e-10, None)))"
   ]
  },
  {
   "cell_type": "code",
   "execution_count": 6,
   "metadata": {},
   "outputs": [
    {
     "name": "stdout",
     "output_type": "stream",
     "text": [
      "alpha_MLE = 0.999594175287 , rho_MLE = 0.24993562826 , mu_MLE = 8.15022859748 , sigma_MLE = 0.311385006955\n",
      "Log-Likelihood function evaluated at MLE parameters: 91.444770178\n",
      "Hessian Inverse:\n",
      "[[  3.10710394e+00  -1.19190499e+03   7.64832960e+03  -8.20311948e+01]\n",
      " [ -1.19190499e+03   4.57222872e+05  -2.93394826e+06   3.14677203e+04]\n",
      " [  7.64832960e+03  -2.93394826e+06   1.88268390e+07  -2.01924888e+05]\n",
      " [ -8.20311948e+01   3.14677203e+04  -2.01924888e+05   2.16572172e+03]]\n"
     ]
    }
   ],
   "source": [
    "alpha_MLE, rho_MLE, mu_MLE, sigma_MLE = results.x\n",
    "Hess_inv = results.hess_inv\n",
    "MLE_params = (alpha_MLE, rho_MLE, mu_MLE, sigma_MLE)\n",
    "print('alpha_MLE =',alpha_MLE, ', rho_MLE =', rho_MLE, ', mu_MLE =', mu_MLE, ', sigma_MLE =', sigma_MLE)\n",
    "print('Log-Likelihood function evaluated at MLE parameters:', log_lik(K_t, W_t, MLE_params))\n",
    "print('Hessian Inverse:')\n",
    "print(Hess_inv.todense())"
   ]
  },
  {
   "cell_type": "markdown",
   "metadata": {},
   "source": [
    "### b):"
   ]
  },
  {
   "cell_type": "code",
   "execution_count": 7,
   "metadata": {
    "collapsed": true
   },
   "outputs": [],
   "source": [
    "def Z_series1(R_series, K_series, alpha):\n",
    "    \n",
    "    Z_series = np.log(R_series) - (alpha-1) * np.log(K_series) - np.log(alpha)\n",
    "    \n",
    "    return Z_series\n",
    "\n",
    "\n",
    "def log_lik1(R_series, K_series, params):\n",
    "    \n",
    "    alpha, rho, mu, sigma = params\n",
    "    log_pdf_list = []\n",
    "    \n",
    "    Z = Z_series1(R_series, K_series, alpha)\n",
    "    Z = np.insert(Z, 0, mu)\n",
    "    \n",
    "    for t, z in  enumerate(Z):\n",
    "        \n",
    "        if t > 0:\n",
    "            \n",
    "            mean = rho * Z[t-1] + (1-rho) * mu\n",
    "            pdf_t = sts.norm.pdf(Z[t], loc=(mean), scale=(sigma**2))\n",
    "             \n",
    "            if pdf_t == 0:\n",
    "                \n",
    "                pdf_t = 1e-10\n",
    "            \n",
    "            log_pdf_t = np.log(pdf_t)\n",
    "            log_pdf_list.append(log_pdf_t)\n",
    "            \n",
    "    log_pdf_array = np.asarray(log_pdf_list)\n",
    "    log_lik = np.sum(log_pdf_array)\n",
    "    \n",
    "    return log_lik   \n",
    "\n",
    "\n",
    "def crit1(params, R_series, K_series):\n",
    "    \n",
    "    LL = log_lik1(R_series, K_series, params)\n",
    "    neg_LL = -LL\n",
    "    \n",
    "    return neg_LL"
   ]
  },
  {
   "cell_type": "code",
   "execution_count": 20,
   "metadata": {},
   "outputs": [],
   "source": [
    "params_init1 = (0.5, 0.5, 1, 10)\n",
    "MLE_args1 = (R_t, K_t)\n",
    "\n",
    "results1 = opt.minimize(crit1, params_init1, args=(MLE_args1), method='L-BFGS-B', \n",
    "                            bounds=((1e-10, 0.9999999), (-0.9999999, 0.9999999), (1e-10, None), (1e-10, None)))"
   ]
  },
  {
   "cell_type": "code",
   "execution_count": 24,
   "metadata": {},
   "outputs": [
    {
     "name": "stdout",
     "output_type": "stream",
     "text": [
      "alpha_MLE = 0.701976707439 , rho_MLE = 0.479970670942 , mu_MLE = 5.07600524872 , sigma_MLE = 0.303386860758\n",
      "Log-Likelihood function evaluated at MLE parameters: 96.6537371947\n",
      "Hessian Inverse:\n",
      "[[ 1.  0.  0.  0.]\n",
      " [ 0.  1.  0.  0.]\n",
      " [ 0.  0.  1.  0.]\n",
      " [ 0.  0.  0.  1.]]\n"
     ]
    }
   ],
   "source": [
    "alpha_MLE1, rho_MLE1, mu_MLE1, sigma_MLE1 = results1.x\n",
    "Hess_inv1 = results1.hess_inv\n",
    "MLE_params1 = (alpha_MLE1, rho_MLE1, mu_MLE1, sigma_MLE1)\n",
    "print('alpha_MLE =',alpha_MLE1, ', rho_MLE =', rho_MLE1, ', mu_MLE =', mu_MLE1, ', sigma_MLE =', sigma_MLE1)\n",
    "print('Log-Likelihood function evaluated at MLE parameters:', log_lik1(R_t, K_t, MLE_params1))\n",
    "print('Hessian Inverse:')\n",
    "print(Hess_inv1.todense())"
   ]
  },
  {
   "cell_type": "markdown",
   "metadata": {},
   "source": [
    "### c):"
   ]
  },
  {
   "cell_type": "code",
   "execution_count": 34,
   "metadata": {},
   "outputs": [
    {
     "name": "stdout",
     "output_type": "stream",
     "text": [
      "Probability interest rate > 1 =  1.0\n"
     ]
    }
   ],
   "source": [
    "k_t = 7500000\n",
    "z_t_minus = 10\n",
    "z_star = (alpha_MLE-1) * np.log(k_t) - np.log(alpha_MLE)\n",
    "\n",
    "zt_cdf = lambda z: sts.norm.cdf(z, loc=(rho_MLE * z_t_minus + (1-rho_MLE) * mu_MLE), scale=(sigma_MLE**2))\n",
    "\n",
    "Prob = 1 - zt_cdf(z_star)\n",
    "print('Probability interest rate > 1 = ', Prob)"
   ]
  }
 ],
 "metadata": {
  "kernelspec": {
   "display_name": "Python 3",
   "language": "python",
   "name": "python3"
  },
  "language_info": {
   "codemirror_mode": {
    "name": "ipython",
    "version": 3
   },
   "file_extension": ".py",
   "mimetype": "text/x-python",
   "name": "python",
   "nbconvert_exporter": "python",
   "pygments_lexer": "ipython3",
   "version": "3.6.1"
  }
 },
 "nbformat": 4,
 "nbformat_minor": 2
}
