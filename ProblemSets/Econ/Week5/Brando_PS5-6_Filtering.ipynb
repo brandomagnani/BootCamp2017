{
 "cells": [
  {
   "cell_type": "markdown",
   "metadata": {},
   "source": [
    "# Problem Set 5-6, Econ, Filtering\n",
    "## Ildebrando Magnani\n",
    "### Joint work with Francesco Furno"
   ]
  },
  {
   "cell_type": "markdown",
   "metadata": {},
   "source": [
    "## Exercise 1"
   ]
  },
  {
   "cell_type": "markdown",
   "metadata": {},
   "source": [
    "Let Z = X + Y. By definition, the spectral density of Z is given by:\n",
    "\n",
    "$$ S_Z(\\omega) = lim_T E [ |[Z^T(\\omega) |^2 ] \\\\\n",
    " = lim_T E[  |[X^T(\\omega) + Y^T(\\omega) |^2 ] \\\\ \n",
    "  = lim_T E[|[X^T(\\omega)|^2 + |Y^T(\\omega)|^2 + |2 X^T(\\omega) Y^T(\\omega)| ] \\\\\n",
    "  = S_X(\\omega) + S_Y(\\omega) + 2Re (S_{XY}(\\omega)) $$"
   ]
  },
  {
   "cell_type": "markdown",
   "metadata": {},
   "source": [
    "## Exercise 2"
   ]
  },
  {
   "cell_type": "markdown",
   "metadata": {},
   "source": [
    "First, notice that the HP filter minimization problem is differentiable and strictly concave. Therefore, there exists a unique global minimizer which can be found with the Lagrangean method.\n",
    "\n",
    "Let's take the F.O.C. with respect to a generic $g_t$:\n",
    "\n",
    "$$ -2(y_t - g_t) - 4\\lambda (g_{t+1} - 2 g_t  + g_{t-1}) + 2\\lambda (g_t - 2g_{t-1} + g_{t-2}) + 2\\lambda (g_{t+2} - 2g_{t+1} + g_t) = 0 $$\n",
    "\n",
    "and divide both sides by $\\lambda$:\n",
    "\n",
    "$$ -\\frac{2}{\\lambda}(y_t - g_t) - 4 (g_{t+1} - 2 g_t  + g_{t-1}) + 2 (g_t - 2g_{t-1} + g_{t-2}) + 2 (g_{t+2} - 2g_{t+1} + g_t) = 0 $$\n",
    "\n",
    "It is immediate so see that, as $\\lambda \\rightarrow \\infty$, the F.O.C. become:\n",
    "\n",
    "$$  - 4 (g_{t+1} - 2 g_t  + g_{t-1}) + 2 (g_t - 2g_{t-1} + g_{t-2}) + 2 (g_{t+2} - 2g_{t+1} + g_t) = 0 $$\n",
    "\n",
    "Which is minimize when $\\Delta g_t = \\Delta g_{t+1}$, $\\forall t$, in other words when the trend is linear. \n",
    "\n",
    "When $t=1$, the F.O.C. are given by:\n",
    "\n",
    "$$ -2(y_1 - g_1) + 2\\lambda (g_3 - 2g_2 + g_1)  = 0 $$\n",
    "\n",
    "whereas for $t=2$ the F.O.C. are given by:\n",
    "\n",
    "$$ -2(y_2 - g_2) - 4 \\lambda (g_3 - 2g_2 + g_1) + 2 \\lambda (g_4 - 2g_3 + g_2)  = 0 $$\n"
   ]
  },
  {
   "cell_type": "markdown",
   "metadata": {},
   "source": [
    "## Exercise 3"
   ]
  },
  {
   "cell_type": "code",
   "execution_count": null,
   "metadata": {
    "collapsed": true
   },
   "outputs": [],
   "source": []
  },
  {
   "cell_type": "markdown",
   "metadata": {},
   "source": [
    "## Exercise 4"
   ]
  },
  {
   "cell_type": "code",
   "execution_count": 5,
   "metadata": {
    "collapsed": true
   },
   "outputs": [],
   "source": [
    "import statsmodels as stat\n"
   ]
  },
  {
   "cell_type": "code",
   "execution_count": null,
   "metadata": {
    "collapsed": true
   },
   "outputs": [],
   "source": []
  }
 ],
 "metadata": {
  "kernelspec": {
   "display_name": "Python 3",
   "language": "python",
   "name": "python3"
  },
  "language_info": {
   "codemirror_mode": {
    "name": "ipython",
    "version": 3
   },
   "file_extension": ".py",
   "mimetype": "text/x-python",
   "name": "python",
   "nbconvert_exporter": "python",
   "pygments_lexer": "ipython3",
   "version": "3.6.1"
  }
 },
 "nbformat": 4,
 "nbformat_minor": 2
}
