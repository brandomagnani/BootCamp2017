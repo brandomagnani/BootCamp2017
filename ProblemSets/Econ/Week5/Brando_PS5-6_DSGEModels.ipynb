{
 "cells": [
  {
   "cell_type": "markdown",
   "metadata": {},
   "source": [
    "# Problem Set 5-6, Econ, DSGE Models\n",
    "## Ildebrando Magnani\n",
    "### Joint work with Francesco Furno\n"
   ]
  },
  {
   "cell_type": "markdown",
   "metadata": {},
   "source": [
    "## Exercise 5"
   ]
  },
  {
   "cell_type": "markdown",
   "metadata": {},
   "source": [
    "Consider the following functional forms:\n",
    "\n",
    "$$ u(c_t,\\ell_t)  = \\frac{c^{1-\\gamma}_t -1}{1-\\gamma}\\\\\n",
    "F(k_t,\\ell_t,z_t)  = k^{\\alpha}_t (\\ell_t e^{z_t})^{1-\\alpha}  $$\n",
    "\n",
    "and assume that labor is exogenously given, $\\ell_t = 1$. \n",
    "The marginal products of labor and of capital are given by:\n",
    "\n",
    "$$ MPK_t = K_t^{\\alpha - 1} \\alpha (\\ell_t e^{z_t})^{1-\\alpha} \\\\\n",
    "MPL_t = (1 - \\alpha) K_t^{\\alpha} e^{z_t} (L_t e^{z_t})^{- \\alpha} $$\n",
    "\n",
    "The characterizing equations for this model are given by:\n",
    "\n",
    "$$ c_t = (1 - \\tau) [w_t \\ell_t + (r_t - \\delta) k_t] + k_t + T_t - k_{t+1} \\\\\n",
    "c_t^{- \\gamma} = \\beta E_t[ c_{t+1}^{- \\gamma} (r_{t+1} - \\delta)] \\\\\n",
    "r_t  =  K_t^{\\alpha - 1} \\alpha (\\ell_t e^{z_t})^{1-\\alpha} \\\\\n",
    "w_t  = (1 - \\alpha) K_t^{\\alpha} e^{z_t} (L_t e^{z_t})^{- \\alpha}   \\\\\n",
    "T_t = \\tau [w_t \\ell_t + (r_t - \\delta) k_t]  \\\\\n",
    "z_t  = (1 - \\rho_z) \\bar{z} + \\rho_z z_{t-1} + \\epsilon_t^z \\text{;} \\quad \\epsilon_t^z \\sim \\text{i.i.d.}(0, \\sigma_z^2) \\\\\n",
    "L_t = \\ell_t = 1 \\\\\n",
    "K_t = k_t\n",
    "$$\n",
    "\n"
   ]
  },
  {
   "cell_type": "markdown",
   "metadata": {},
   "source": [
    "Imposing the market clearing conditions, the assumption that $\\ell_t = 1, \\forall t$, and imposing the (deterministic) steady-state we obtain:\n",
    "\n",
    "$$ \n",
    "z = \\bar{z} \\\\\n",
    "c = (1 - \\tau) [w + (r - \\delta) k] + k + T - k \\\\\n",
    "1 = \\beta  (r - \\delta) \\\\\n",
    "r  =  k^{\\alpha - 1} \\alpha \\\\\n",
    "w  = (1 - \\alpha) k^{\\alpha}  \\\\\n",
    "T = \\tau [w + (r - \\delta) k]\n",
    "$$"
   ]
  },
  {
   "cell_type": "markdown",
   "metadata": {},
   "source": [
    "Let's now solving algebraically for the steady-state, assuming the following parameterization:\n",
    "\n",
    "$$\n",
    "\\gamma = 2.5 \\\\\n",
    "\\beta = 0.98 \\\\\n",
    "\\alpha = 0.40 \\\\\n",
    "\\delta = 0.10 \\\\\n",
    "\\bar{z} = 0 \\\\\n",
    "\\tau = 0.05\n",
    "$$\n",
    "\n",
    "The steady-state value of the model variables are:\n",
    "$$\n",
    "r = \\frac{1}{\\beta} + \\delta \\\\\n",
    "k = (\\frac{r}{\\alpha})^{\\frac{1}{\\alpha -1} } \\\\\n",
    "w  = (1 - \\alpha) k^{\\alpha} \\\\\n",
    "z = \\bar{z} \\\\\n",
    "T = \\tau [w + (r - \\delta) k] \\\\\n",
    "c = (1 - \\tau) [w + (r - \\delta) k] + T\n",
    "$$\n",
    "\n"
   ]
  },
  {
   "cell_type": "code",
   "execution_count": 22,
   "metadata": {},
   "outputs": [
    {
     "name": "stdout",
     "output_type": "stream",
     "text": [
      "The (algebraic) steady-state values are:\n",
      "r: 1.1204081632653062 z: 0 k: 0.1796688872902407 w: 0.3019537320071698 T: 0.024264466564146284 c: 0.48528933128292556\n"
     ]
    }
   ],
   "source": [
    "gamma = 2.5 \n",
    "beta = 0.98 \n",
    "alpha = 0.40 \n",
    "delta = 0.10 \n",
    "z = 0\n",
    "tau = 0.05\n",
    "\n",
    "r = beta**(-1) + delta\n",
    "z = 0\n",
    "k = (r / alpha)**(1/(alpha -1))\n",
    "w = (1 - alpha) * k**(alpha)\n",
    "T = tau * (w + (r - delta) * k)\n",
    "c = (1 - tau)* (w + (r - delta) * k) + T\n",
    "\n",
    "algebraic_steady_state = [z, c, k, r, w, T]\n",
    "print('The (algebraic) steady-state values are:')\n",
    "print('r:', r, 'z:', z, 'k:', k, 'w:', w, 'T:', T, 'c:', c)"
   ]
  },
  {
   "cell_type": "markdown",
   "metadata": {},
   "source": [
    "Now, let's use a root finder to solve for the steady-state values. To do so, we rewrite the model characterizing equations at steady-state as a function and use a root-finder to find the zeros of that function. Rewrite the system as:\n",
    "\n",
    "$$\n",
    "z = 0 \\\\\n",
    "c - (1 - \\tau) [w + (r - \\delta) k] - T = 0 \\\\\n",
    "1 - \\beta  (r - \\delta) = 0 \\\\\n",
    "r  -  k^{\\alpha - 1} \\alpha = 0 \\\\\n",
    "w  - (1 - \\alpha) k^{\\alpha} = 0  \\\\\n",
    "T - \\tau [w + (r - \\delta) k] = 0\n",
    "$$\n",
    "\n",
    "which can be seen as finding the roots of:\n",
    "\n",
    "$$ g(x) = 0  $$\n",
    "\n",
    "where $x = [z, c, k, r, w, T]$."
   ]
  },
  {
   "cell_type": "code",
   "execution_count": 34,
   "metadata": {},
   "outputs": [
    {
     "name": "stdout",
     "output_type": "stream",
     "text": [
      "[0, -1.3877787807814457e-17, 0.0, 0.0, 0.0, 0.0]\n"
     ]
    }
   ],
   "source": [
    "from scipy.optimize import root, fsolve\n",
    "import numpy as np\n",
    "\n",
    "gamma = 2.5 \n",
    "beta = 0.98 \n",
    "alpha = 0.40 \n",
    "delta = 0.10 \n",
    "tau = 0.05\n",
    "\n",
    "\n",
    "def steady_state(x):\n",
    "    z = x[0]\n",
    "    c = x[1]\n",
    "    k = x[2]\n",
    "    r = x[3]\n",
    "    w = x[4]\n",
    "    T = x[5]\n",
    "    out1 = z\n",
    "    out2 = c - (1 - tau) * (w + (r - delta) * k) - T\n",
    "    out3 = 1 - beta * (r - delta)\n",
    "    out4 = r - k**(alpha - 1) * alpha\n",
    "    out5 = w - (1 - alpha) * k**(alpha)\n",
    "    out6 = T - tau * (w + (r - delta) * k)\n",
    "    return [out1, out2, out3, out4, out5, out6]\n",
    "\n",
    "# Check that the function is correct by evaluating with algebraic solution\n",
    "check = steady_state(algebraic_steady_state)        \n",
    "print(check)"
   ]
  },
  {
   "cell_type": "code",
   "execution_count": 37,
   "metadata": {},
   "outputs": [
    {
     "name": "stdout",
     "output_type": "stream",
     "text": [
      "    fjac: array([[-1.        ,  0.        ,  0.        ,  0.        ,  0.        ,\n",
      "         0.        ],\n",
      "       [ 0.        , -1.        ,  0.        ,  0.        ,  0.        ,\n",
      "         0.        ],\n",
      "       [ 0.        ,  0.        ,  0.        , -0.89441029,  0.44720515,\n",
      "        -0.00614678],\n",
      "       [ 0.        ,  0.        ,  0.90938594, -0.18574456, -0.37110014,\n",
      "         0.02829935],\n",
      "       [ 0.        ,  0.        , -0.41589443, -0.40644991, -0.81228037,\n",
      "         0.04506542],\n",
      "       [ 0.        ,  0.        ,  0.00700263, -0.01810153, -0.04992821,\n",
      "        -0.99856421]])\n",
      "     fun: array([ 0.5       , -0.9275    ,  1.098     , -0.60628663,  0.04528503,\n",
      "        0.4775    ])\n",
      " message: 'The iteration is not making good progress, as measured by the \\n  improvement from the last ten iterations.'\n",
      "    nfev: 23\n",
      "     qtf: array([-0.5       ,  0.9275    ,  0.55958561,  1.10782786, -0.22549234,\n",
      "       -0.46041181])\n",
      "       r: array([ nan,  nan,  nan,  nan,  nan,  nan,  nan,  nan,  nan,  nan,  nan,\n",
      "        nan,  nan,  nan,  nan,  nan,  nan,  nan,  nan,  nan,  nan])\n",
      "  status: 5\n",
      " success: False\n",
      "       x: array([ 0.5,  0. ,  0.5,  0. ,  0.5,  0.5])\n"
     ]
    },
    {
     "name": "stderr",
     "output_type": "stream",
     "text": [
      "C:\\Users\\Francesco\\Anaconda3\\lib\\site-packages\\ipykernel_launcher.py:21: RuntimeWarning: invalid value encountered in double_scalars\n",
      "C:\\Users\\Francesco\\Anaconda3\\lib\\site-packages\\ipykernel_launcher.py:22: RuntimeWarning: invalid value encountered in double_scalars\n"
     ]
    }
   ],
   "source": [
    "# Let's solve for the steady-state numerically\n",
    "\n",
    "guess = [0.5, 0.0, 0.5, 0.0, 0.5, 0.5]\n",
    "                            \n",
    "steady_state_root = root(steady_state, guess)\n",
    "print(steady_state_root)"
   ]
  }
 ],
 "metadata": {
  "kernelspec": {
   "display_name": "Python 3",
   "language": "python",
   "name": "python3"
  },
  "language_info": {
   "codemirror_mode": {
    "name": "ipython",
    "version": 3
   },
   "file_extension": ".py",
   "mimetype": "text/x-python",
   "name": "python",
   "nbconvert_exporter": "python",
   "pygments_lexer": "ipython3",
   "version": "3.6.1"
  }
 },
 "nbformat": 4,
 "nbformat_minor": 2
}
