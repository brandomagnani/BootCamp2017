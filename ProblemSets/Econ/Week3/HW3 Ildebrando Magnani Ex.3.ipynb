{
 "cells": [
  {
   "cell_type": "code",
   "execution_count": 1,
   "metadata": {
    "collapsed": true
   },
   "outputs": [],
   "source": [
    "# Import packages\n",
    "import numpy as np\n",
    "import matplotlib.pyplot as plt\n",
    "import time\n",
    "from ar1_approx import integrand\n",
    "from ar1_approx import addacooper\n",
    "import numpy as np\n",
    "import scipy.stats as st\n",
    "from scipy.stats import norm\n",
    "import scipy.integrate as integrate\n",
    "import numba\n",
    "\n",
    "# to print plots inline\n",
    "%matplotlib inline"
   ]
  },
  {
   "cell_type": "code",
   "execution_count": 2,
   "metadata": {
    "collapsed": true
   },
   "outputs": [],
   "source": [
    "# specify parameters\n",
    "alpha_k = 0.29715\n",
    "alpha_l = 0.65\n",
    "delta = 0.154\n",
    "psi = 1.08\n",
    "w = 0.7\n",
    "r= 0.04\n",
    "sigma_z = 0.213\n",
    "mu = 0.0\n",
    "rho = 0.7605\n",
    "sizez = 9\n",
    "zz=1\n",
    "betafirm = (1 / (1 + r))\n",
    "dens = 5"
   ]
  },
  {
   "cell_type": "code",
   "execution_count": 3,
   "metadata": {},
   "outputs": [
    {
     "name": "stdout",
     "output_type": "stream",
     "text": [
      "[ 0.57170087  0.72611947  0.82344962  0.91128377  1.          1.09735302\n",
      "  1.21440337  1.37718384  1.74916648]\n"
     ]
    }
   ],
   "source": [
    "# put in bounds here for the capital stock space\n",
    "kstar = ((((1 / betafirm - 1 + delta) * ((w / alpha_l) **\n",
    "                                         (alpha_l / (1 - alpha_l)))) /\n",
    "         (alpha_k * (zz ** (1 / (1 - alpha_l))))) **\n",
    "         ((1 - alpha_l) / (alpha_k + alpha_l - 1)))\n",
    "kbar = 2*kstar\n",
    "lb_k = 0.001\n",
    "ub_k = kbar\n",
    "krat = np.log(lb_k / ub_k)\n",
    "numb = np.ceil(krat / np.log(1 - delta))\n",
    "K = np.zeros(int(numb * dens))\n",
    "# we'll create in a way where we pin down the upper bound - since\n",
    "# the distance will be small near the lower bound, we'll miss that by little\n",
    "for j in range(int(numb * dens)):\n",
    "    K[j] = ub_k * (1 - delta) ** (j / dens)\n",
    "k_grid = K[::-1]\n",
    "sizek = k_grid.shape[0]\n",
    "\n",
    "ln_z_grid, pi = addacooper(sizez, mu, rho, sigma_z)\n",
    "z_grid = np.exp(ln_z_grid)\n",
    "print(z_grid)"
   ]
  },
  {
   "cell_type": "code",
   "execution_count": 4,
   "metadata": {
    "collapsed": true
   },
   "outputs": [],
   "source": [
    "def quad_adjcost(k, k_prime):\n",
    "    \n",
    "    return (psi/2) * (((k_prime - (1-delta)*k) / k)**2) * k"
   ]
  },
  {
   "cell_type": "code",
   "execution_count": 5,
   "metadata": {
    "collapsed": true
   },
   "outputs": [],
   "source": [
    "def op_profits(K_grid, Z_grid, sizek, sizez):\n",
    "    \n",
    "    op = np.zeros((sizek, sizez))\n",
    "    \n",
    "    for i, k in enumerate(K_grid):\n",
    "        for j, z in enumerate(Z_grid):\n",
    "            op[i,j] = (1-alpha_l) * ((alpha_l/w)**(alpha_l/(1-alpha_l))) * (z**(1/(1-alpha_l))) * (k**(alpha_k/(1-alpha_l)))\n",
    "    return op\n",
    "        \n",
    "def cash_flow(K_grid, Z_grid, sizek, sizez):\n",
    "    \n",
    "    e = np.zeros((sizek, sizez, sizek))\n",
    "    \n",
    "    for i, k in enumerate(K_grid):\n",
    "        for j, z in enumerate(Z_grid):\n",
    "            for h, k_prime in enumerate(K_grid):\n",
    "                e[i,j,h] = op[i,j] - (k_prime - (1-delta)*k) - quad_adjcost(k, k_prime)\n",
    "    \n",
    "    return e"
   ]
  },
  {
   "cell_type": "code",
   "execution_count": null,
   "metadata": {
    "collapsed": true
   },
   "outputs": [],
   "source": []
  }
 ],
 "metadata": {
  "kernelspec": {
   "display_name": "Python 3",
   "language": "python",
   "name": "python3"
  },
  "language_info": {
   "codemirror_mode": {
    "name": "ipython",
    "version": 3
   },
   "file_extension": ".py",
   "mimetype": "text/x-python",
   "name": "python",
   "nbconvert_exporter": "python",
   "pygments_lexer": "ipython3",
   "version": "3.6.1"
  }
 },
 "nbformat": 4,
 "nbformat_minor": 2
}
