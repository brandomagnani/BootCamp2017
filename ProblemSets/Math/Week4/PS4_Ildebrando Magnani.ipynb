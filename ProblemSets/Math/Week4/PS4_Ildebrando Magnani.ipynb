{
 "cells": [
  {
   "cell_type": "markdown",
   "metadata": {},
   "source": [
    "# Problem Set 4 - Math\n",
    "# Francesco Furno - Ildebrando Magnani\n",
    "## Exercise 6.14"
   ]
  },
  {
   "cell_type": "markdown",
   "metadata": {},
   "source": [
    "We construct two versions of the Newton Algorithm method. The first one requires as input both the first and the second derivative of the function. The other requires just the function and compute the derivatives numerically.\n",
    "\n",
    "After preparing the code of the algorithm, we will apply the algorithm to the function proposed in exercise 6.11, assuming that $a = 1$, $b = 1$ and $c = 1$."
   ]
  },
  {
   "cell_type": "markdown",
   "metadata": {},
   "source": [
    "### Base version of the algorithm"
   ]
  },
  {
   "cell_type": "code",
   "execution_count": 2,
   "metadata": {
    "collapsed": true
   },
   "outputs": [],
   "source": [
    "def Newton_base(guess, fprime, fdoubleprime, tolerance=1e-6):\n",
    "    error = 1\n",
    "    i = 0\n",
    "    x0 = guess\n",
    "    while(error > tolerance):\n",
    "        x1 = x0 - fprime(x0)/ fdoubleprime(x0)\n",
    "        error = x1-x0\n",
    "        x0 = x1\n",
    "        i +=1\n",
    "    return x0, i"
   ]
  },
  {
   "cell_type": "code",
   "execution_count": 10,
   "metadata": {},
   "outputs": [
    {
     "name": "stdout",
     "output_type": "stream",
     "text": [
      "The minimizer is -0.5 and the number of iterations is: 1\n"
     ]
    }
   ],
   "source": [
    "# Defining the two derivatives as callable functions\n",
    "\n",
    "def fprime(x, a=1, b=1):\n",
    "    output = 2*a*x + b\n",
    "    return output\n",
    "\n",
    "def fdoubleprime(x, a=1, b=1):\n",
    "    output = 2*a\n",
    "    return output\n",
    "\n",
    "# Minimizing (the analytical minimizer is -1/2)\n",
    "solution, iterations = Newton_base(2, fprime, fdoubleprime)\n",
    "print(\"The minimizer is\", solution, \"and the number of iterations is:\", iterations)"
   ]
  },
  {
   "cell_type": "markdown",
   "metadata": {},
   "source": [
    "### Algorithm with numerical derivatives"
   ]
  },
  {
   "cell_type": "code",
   "execution_count": 15,
   "metadata": {
    "collapsed": true
   },
   "outputs": [],
   "source": [
    "# Numerical derivative with forward differencing\n",
    "def num_derivative(function, x, h=1e-5):\n",
    "    fprime = (function(x+h) - function(x))/h   \n",
    "    fsecond = (function(x+2*h) - 2* function(x+h) + function(x))/h**2\n",
    "    return fprime, fsecond\n",
    "\n",
    "def Newton_numerical(guess, function, tolerance=1e-6):\n",
    "    i = 0\n",
    "    x0 = guess\n",
    "    error = 1\n",
    "    while(error > tolerance):\n",
    "        f1, f2 = num_derivative(function, x0)\n",
    "        x1 = x0 - f1 / f2\n",
    "        error = x1-x0\n",
    "        x0 = x1\n",
    "        i +=1\n",
    "    return x0, i"
   ]
  },
  {
   "cell_type": "code",
   "execution_count": 16,
   "metadata": {},
   "outputs": [
    {
     "name": "stdout",
     "output_type": "stream",
     "text": [
      "The minimizer is -0.4999936909419538 and the number of iterations is: 1\n"
     ]
    }
   ],
   "source": [
    "def parabola(x, a=1, b=1, c=1):\n",
    "    output = a*(x**2) + b*x + c\n",
    "    return output\n",
    "\n",
    "solution, iterations = Newton_numerical(2, parabola)\n",
    "print(\"The minimizer is\", solution, \"and the number of iterations is:\", iterations)"
   ]
  }
 ],
 "metadata": {
  "kernelspec": {
   "display_name": "Python 3",
   "language": "python",
   "name": "python3"
  },
  "language_info": {
   "codemirror_mode": {
    "name": "ipython",
    "version": 3
   },
   "file_extension": ".py",
   "mimetype": "text/x-python",
   "name": "python",
   "nbconvert_exporter": "python",
   "pygments_lexer": "ipython3",
   "version": "3.6.1"
  }
 },
 "nbformat": 4,
 "nbformat_minor": 2
}
