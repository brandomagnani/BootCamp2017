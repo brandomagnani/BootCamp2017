{
 "cells": [
  {
   "cell_type": "markdown",
   "metadata": {},
   "source": [
    "# Ildebrando Magnani\n",
    "\n",
    "## Numerical Differentiation Problems"
   ]
  },
  {
   "cell_type": "code",
   "execution_count": 166,
   "metadata": {
    "collapsed": true
   },
   "outputs": [],
   "source": [
    "import sympy as sy\n",
    "import numpy as np\n",
    "import matplotlib.pyplot as plt"
   ]
  },
  {
   "cell_type": "code",
   "execution_count": 167,
   "metadata": {
    "collapsed": true
   },
   "outputs": [],
   "source": [
    "# Problem 1"
   ]
  },
  {
   "cell_type": "code",
   "execution_count": 168,
   "metadata": {},
   "outputs": [],
   "source": [
    "def p1(x0):\n",
    "    x = sy.symbols('x')\n",
    "    expr = (sy.sin(x) + 1)**(sy.sin(sy.cos(x)))\n",
    "    der = sy.diff(expr, x)\n",
    "    return der.evalf(subs={x: x0})\n",
    "    "
   ]
  },
  {
   "cell_type": "code",
   "execution_count": 169,
   "metadata": {
    "collapsed": true
   },
   "outputs": [],
   "source": [
    "# Problem 2"
   ]
  },
  {
   "cell_type": "code",
   "execution_count": 238,
   "metadata": {},
   "outputs": [],
   "source": [
    "def F_1(f, h, x):\n",
    "    fval_list = []\n",
    "    F_1 = lambda x0: (f(x0 + h) - f(x0)) / h\n",
    "    return F_1(x)\n",
    "\n",
    "def F_2(f, h, x):\n",
    "    fval_list = []\n",
    "    F_2 = lambda x0: (-3*f(x0) + 4*f(x0 + h) - f(x0 + 2*h)) / 2*h\n",
    "    return F_2(x)d\n",
    "\n",
    "def B_1(f, h, x):\n",
    "    fval_list = []\n",
    "    B_1 = lambda x0: (f(x0) - f(x0 - h)) / h\n",
    "    return B_1(x)\n",
    "\n",
    "def B_2(f, h, x):\n",
    "    fval_list = []\n",
    "    B_2 = lambda x0: (3*f(x0) - 4*f(x0 - h) + f(x0 - 2*h)) / 2*h\n",
    "    return B_2(x)\n",
    "    \n",
    "\n",
    "def C_1(f, h, x):\n",
    "    fval_list = []\n",
    "    C_1 = lambda x0: (f(x0 + h) - f(x0 - h)) / 2*h\n",
    "    return C_1(x)\n",
    "\n",
    "def C_2(f, h, x):\n",
    "    fval_list = []\n",
    "    C_2 = lambda x0: (f(x0 - 2*h) - 8*f(x0 - h) + 8*f(x0 + h) - f(x0 + 2*h)) / 12*h\n",
    "    return C_2(x)"
   ]
  },
  {
   "cell_type": "code",
   "execution_count": 247,
   "metadata": {
    "collapsed": true
   },
   "outputs": [],
   "source": [
    "h = 0.000000000002\n",
    "xx = np.arange(-3, 4, 0.1)\n",
    "fn = lambda x: (np.sin(x) + 1)**(np.sin(np.cos(x)))"
   ]
  },
  {
   "cell_type": "code",
   "execution_count": 248,
   "metadata": {},
   "outputs": [],
   "source": [
    "results = B_1(fn, h, xx)"
   ]
  },
  {
   "cell_type": "code",
   "execution_count": 249,
   "metadata": {},
   "outputs": [
    {
     "data": {
      "image/png": "[encoded data removed]",
      "text/plain": [
       "<matplotlib.figure.Figure at 0x10d235630>"
      ]
     },
     "metadata": {},
     "output_type": "display_data"
    }
   ],
   "source": [
    "sym_list = []\n",
    "for i in xx:\n",
    "    sym_list.append(der.evalf(subs={x: i}))\n",
    "plt.plot(xx, B_1(fn, h, xx), color=\"r\")\n",
    "plt.plot(xx, sym_list, \"--\")\n",
    "plt.show()"
   ]
  },
  {
   "cell_type": "code",
   "execution_count": null,
   "metadata": {
    "collapsed": true
   },
   "outputs": [],
   "source": []
  },
  {
   "cell_type": "code",
   "execution_count": 250,
   "metadata": {
    "collapsed": true
   },
   "outputs": [],
   "source": []
  },
  {
   "cell_type": "code",
   "execution_count": null,
   "metadata": {},
   "outputs": [],
   "source": []
  },
  {
   "cell_type": "code",
   "execution_count": null,
   "metadata": {
    "collapsed": true
   },
   "outputs": [],
   "source": []
  },
  {
   "cell_type": "code",
   "execution_count": null,
   "metadata": {
    "collapsed": true
   },
   "outputs": [],
   "source": []
  },
  {
   "cell_type": "code",
   "execution_count": null,
   "metadata": {
    "collapsed": true
   },
   "outputs": [],
   "source": []
  }
 ],
 "metadata": {
  "kernelspec": {
   "display_name": "Python 3",
   "language": "python",
   "name": "python3"
  },
  "language_info": {
   "codemirror_mode": {
    "name": "ipython",
    "version": 3
   },
   "file_extension": ".py",
   "mimetype": "text/x-python",
   "name": "python",
   "nbconvert_exporter": "python",
   "pygments_lexer": "ipython3",
   "version": "3.6.1"
  }
 },
 "nbformat": 4,
 "nbformat_minor": 2
}
