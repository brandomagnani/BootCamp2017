{
 "cells": [
  {
   "cell_type": "markdown",
   "metadata": {},
   "source": [
    "# ILDEBRANDO MAGNANI\n",
    "\n",
    "#### Page Rank Problems"
   ]
  },
  {
   "cell_type": "code",
   "execution_count": 31,
   "metadata": {},
   "outputs": [],
   "source": [
    "import scipy.sparse as sp"
   ]
  },
  {
   "cell_type": "code",
   "execution_count": 59,
   "metadata": {},
   "outputs": [],
   "source": [
    "# Problem 1\n",
    "\n",
    "with open('/Users/ildebrandomagnani/Desktop/matrix.txt', 'r') as myfile:\n",
    "    nodes_list = []\n",
    "    for z, l in enumerate(myfile):\n",
    "        if z > 0:\n",
    "            a, b = [int(s) for s in l.strip().split()]\n",
    "            nodes_list.append(a)\n",
    "            nodes_list.append(b)\n",
    "    N = max(nodes_list) + 1 "
   ]
  },
  {
   "cell_type": "code",
   "execution_count": 70,
   "metadata": {},
   "outputs": [],
   "source": [
    "def get_A(N, name):\n",
    "    with open('/Users/ildebrandomagnani/Desktop/' + name, 'r') as myfile:\n",
    "        S = sp.dok_matrix((N, N))\n",
    "\n",
    "        for t, line in enumerate(myfile):\n",
    "            line1 = line.strip().split()\n",
    "            if t > 0:\n",
    "                line2 = [int(k) for k in line1]\n",
    "                i = line2[0]\n",
    "                j = line2[1]\n",
    "                S[i, j] = 1\n",
    "        print(S.toarray())"
   ]
  },
  {
   "cell_type": "code",
   "execution_count": 71,
   "metadata": {},
   "outputs": [
    {
     "name": "stdout",
     "output_type": "stream",
     "text": [
      "[[ 0.  0.  0.  0.  0.  0.  0.  1.]\n",
      " [ 1.  0.  0.  0.  0.  0.  0.  0.]\n",
      " [ 0.  0.  0.  0.  0.  0.  0.  0.]\n",
      " [ 1.  0.  1.  0.  0.  0.  1.  0.]\n",
      " [ 1.  0.  0.  0.  0.  1.  1.  0.]\n",
      " [ 1.  0.  0.  0.  0.  0.  1.  0.]\n",
      " [ 1.  0.  0.  0.  0.  0.  0.  0.]\n",
      " [ 1.  0.  0.  0.  0.  0.  0.  0.]]\n"
     ]
    }
   ],
   "source": [
    "A = get_A(N, 'matrix.txt')"
   ]
  },
  {
   "cell_type": "code",
   "execution_count": null,
   "metadata": {
    "collapsed": true
   },
   "outputs": [],
   "source": [
    "# Problem 2\n",
    "\n"
   ]
  }
 ],
 "metadata": {
  "kernelspec": {
   "display_name": "Python 3",
   "language": "python",
   "name": "python3"
  },
  "language_info": {
   "codemirror_mode": {
    "name": "ipython",
    "version": 3
   },
   "file_extension": ".py",
   "mimetype": "text/x-python",
   "name": "python",
   "nbconvert_exporter": "python",
   "pygments_lexer": "ipython3",
   "version": "3.6.1"
  }
 },
 "nbformat": 4,
 "nbformat_minor": 2
}
