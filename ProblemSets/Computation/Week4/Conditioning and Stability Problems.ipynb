{
 "cells": [
  {
   "cell_type": "markdown",
   "metadata": {},
   "source": [
    "# Ildebrando Magnani\n",
    "\n",
    "#### Conditioning and Stability Problems:"
   ]
  },
  {
   "cell_type": "code",
   "execution_count": 144,
   "metadata": {},
   "outputs": [],
   "source": [
    "import numpy as np\n",
    "import scipy.linalg as la\n",
    "import sympy as sy\n",
    "import matplotlib.pyplot as plt\n",
    "%matplotlib inline"
   ]
  },
  {
   "cell_type": "code",
   "execution_count": 145,
   "metadata": {
    "collapsed": true
   },
   "outputs": [],
   "source": [
    "# Problem 1\n",
    "\n",
    "def cond_number(A):\n",
    "    U, s, Vh = la.svd(A)\n",
    "    s_max = s[0]\n",
    "    s_min = s[len(s)-1]\n",
    "    \n",
    "    if s_min > 0:\n",
    "        k_A = s_max / s_min\n",
    "        return k_A\n",
    "    else:\n",
    "        return np.inf"
   ]
  },
  {
   "cell_type": "code",
   "execution_count": 146,
   "metadata": {},
   "outputs": [
    {
     "name": "stdout",
     "output_type": "stream",
     "text": [
      "66.5664806124\n",
      "66.5664806124\n",
      "1.0\n"
     ]
    }
   ],
   "source": [
    "A = np.random.rand(5, 5)\n",
    "Q, R = la.qr(A)\n",
    "print(cond_number(A))\n",
    "print(np.linalg.cond(A))\n",
    "print(cond_number(Q))"
   ]
  },
  {
   "cell_type": "code",
   "execution_count": 147,
   "metadata": {},
   "outputs": [],
   "source": [
    "x, i = sy.symbols('x i')\n",
    "w = sy.poly_from_expr(sy.product(x-i, (i, 1, 20)))[0]\n",
    "w_coeffs = np.array(w.all_coeffs())\n",
    "r = np.random.normal(1, 1e-10, len(w_coeffs))\n",
    "w_roots = np.array(w.all_roots())"
   ]
  },
  {
   "cell_type": "code",
   "execution_count": 182,
   "metadata": {},
   "outputs": [],
   "source": [
    "def p2():\n",
    "    x, i = sy.symbols('x i')\n",
    "    w = sy.poly_from_expr(sy.product(x-i, (i, 1, 20)))[0]\n",
    "    w_coeffs = np.array(w.all_coeffs())\n",
    "    w_roots = np.array(w.all_roots())\n",
    "    fig, ax = plt.subplots(figsize=(8,6))\n",
    "    abs_k_list = []\n",
    "    rel_k_list = []\n",
    "    for i in range(100):\n",
    "        \n",
    "        r = np.random.normal(1, 1e-10, len(w_coeffs))\n",
    "        new_coeffs = w_coeffs * r\n",
    "        new_roots = np.roots(np.poly1d(new_coeffs))\n",
    "        new_roots = np.sort(new_roots)\n",
    "        w_roots = np.array(w.all_roots())\n",
    "        w_roots = np.sort(w_roots)\n",
    "        zeros = np.zeros_like(w_roots)\n",
    "        ax.plot(new_roots.real, new_roots.imag, \"k,\")\n",
    "        ax.plot(w_roots, zeros, 'o')\n",
    "        plt.xlabel(\"Real Axis\")\n",
    "        plt.ylabel(\"Imaginary Axis\")\n",
    "        abs_k = np.linalg.norm(new_roots - w_roots, np.inf) / np.linalg.norm(new_coeffs - w_coeffs, np.inf)\n",
    "        rel_k = np.linalg.norm(w_coeffs, np.inf) / np.linalg.norm(w_roots, np.inf) * abs_k\n",
    "        abs_k_list.append(abs_k)\n",
    "        rel_k_list.append(rel_k)\n",
    "    \n",
    "    return np.mean(abs_k_list), np.mean(rel_k_list)"
   ]
  },
  {
   "cell_type": "code",
   "execution_count": 183,
   "metadata": {},
   "outputs": [
    {
     "data": {
      "image/png": "[encoded data removed]",
      "text/plain": [
       "<matplotlib.figure.Figure at 0x110b23668>"
      ]
     },
     "metadata": {},
     "output_type": "display_data"
    }
   ],
   "source": [
    "abs_k, rel_k = p2()"
   ]
  },
  {
   "cell_type": "code",
   "execution_count": 184,
   "metadata": {},
   "outputs": [
    {
     "data": {
      "text/plain": [
       "3.75295996427414e-9"
      ]
     },
     "execution_count": 184,
     "metadata": {},
     "output_type": "execute_result"
    }
   ],
   "source": [
    "abs_k"
   ]
  },
  {
   "cell_type": "code",
   "execution_count": 185,
   "metadata": {},
   "outputs": [
    {
     "data": {
      "text/plain": [
       "2590247885.59361"
      ]
     },
     "execution_count": 185,
     "metadata": {},
     "output_type": "execute_result"
    }
   ],
   "source": [
    "rel_k"
   ]
  },
  {
   "cell_type": "code",
   "execution_count": 189,
   "metadata": {
    "collapsed": true
   },
   "outputs": [],
   "source": [
    "# Problem 3\n",
    "\n",
    "def p3(A):\n",
    "    reals = np.random.normal(0, 1e-10, A.shape)\n",
    "    imags = np.random.normal(0, 1e-10, A.shape)\n",
    "    H = reals + 1j*imags\n",
    "    eigvals_A = la.eigvals(A)\n",
    "    eigvals_AH = la.eigvals(A+H)\n",
    "    k_A_hat = np.linalg.norm(eigvals_A - eigvals_AH, 2) / np.linalg.norm(H, 2)\n",
    "    k_A = k_A_hat * np.linalg.norm(A, 2) / np.linalg.norm(eigvals_A, 2)\n",
    "    return k_A_hat, k_A"
   ]
  },
  {
   "cell_type": "code",
   "execution_count": 190,
   "metadata": {},
   "outputs": [
    {
     "data": {
      "text/plain": [
       "(0.63442055809135545, 0.66731372261905197)"
      ]
     },
     "execution_count": 190,
     "metadata": {},
     "output_type": "execute_result"
    }
   ],
   "source": [
    "A = np.random.rand(5, 5)\n",
    "p3(A)"
   ]
  },
  {
   "cell_type": "code",
   "execution_count": 192,
   "metadata": {
    "collapsed": true
   },
   "outputs": [],
   "source": [
    "# Problem 4\n",
    "\n"
   ]
  },
  {
   "cell_type": "code",
   "execution_count": null,
   "metadata": {
    "collapsed": true
   },
   "outputs": [],
   "source": []
  },
  {
   "cell_type": "code",
   "execution_count": null,
   "metadata": {
    "collapsed": true
   },
   "outputs": [],
   "source": []
  }
 ],
 "metadata": {
  "kernelspec": {
   "display_name": "Python 3",
   "language": "python",
   "name": "python3"
  },
  "language_info": {
   "codemirror_mode": {
    "name": "ipython",
    "version": 3
   },
   "file_extension": ".py",
   "mimetype": "text/x-python",
   "name": "python",
   "nbconvert_exporter": "python",
   "pygments_lexer": "ipython3",
   "version": "3.6.1"
  }
 },
 "nbformat": 4,
 "nbformat_minor": 2
}
