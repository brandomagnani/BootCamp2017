{
 "cells": [
  {
   "cell_type": "markdown",
   "metadata": {},
   "source": [
    "## Ildebrando Magnani\n",
    "\n",
    "Standard Library"
   ]
  },
  {
   "cell_type": "code",
   "execution_count": 1,
   "metadata": {
    "collapsed": true
   },
   "outputs": [],
   "source": [
    "# Problem 1:\n",
    "\n",
    "def p1(list):\n",
    "    new_list = [min(list), max(list), sum(list)/len(list)]\n",
    "    return new_list"
   ]
  },
  {
   "cell_type": "code",
   "execution_count": 2,
   "metadata": {},
   "outputs": [
    {
     "name": "stdout",
     "output_type": "stream",
     "text": [
      "False\n",
      ">> a copy of the number has been made, thus numbers are immutable\n"
     ]
    }
   ],
   "source": [
    "# Problem 2:\n",
    "\n",
    "num1 = 4\n",
    "num2 = num1\n",
    "num2 += 2\n",
    "\n",
    "print(num2 == num1)\n",
    "print('>> a copy of the number has been made, thus numbers are immutable')"
   ]
  },
  {
   "cell_type": "code",
   "execution_count": 3,
   "metadata": {},
   "outputs": [
    {
     "name": "stdout",
     "output_type": "stream",
     "text": [
      "False\n",
      ">> a copy of the word has been made, thus words are immutable\n"
     ]
    }
   ],
   "source": [
    "word1 = 'b'\n",
    "word2 = word1\n",
    "word2 += 'a'\n",
    "\n",
    "print(word2 == word1)\n",
    "print('>> a copy of the word has been made, thus words are immutable')"
   ]
  },
  {
   "cell_type": "code",
   "execution_count": 4,
   "metadata": {},
   "outputs": [
    {
     "name": "stdout",
     "output_type": "stream",
     "text": [
      "True\n",
      ">> a copy of the list has not been made, thus lists are mutable\n"
     ]
    }
   ],
   "source": [
    "list1 = [1, 2, 3]\n",
    "list2 = list1\n",
    "list2.append(1)\n",
    "\n",
    "print(list2 == list1)\n",
    "print('>> a copy of the list has not been made, thus lists are mutable')"
   ]
  },
  {
   "cell_type": "code",
   "execution_count": 5,
   "metadata": {},
   "outputs": [
    {
     "name": "stdout",
     "output_type": "stream",
     "text": [
      "False\n",
      ">> a copy of the tuple has been made, thus tuples are immutable\n"
     ]
    }
   ],
   "source": [
    "tuple1 = (1, 2, 'a')\n",
    "tuple2 = tuple1\n",
    "tuple2 += (1,)\n",
    "\n",
    "print(tuple2 == tuple1)\n",
    "print('>> a copy of the tuple has been made, thus tuples are immutable')"
   ]
  },
  {
   "cell_type": "code",
   "execution_count": 6,
   "metadata": {},
   "outputs": [
    {
     "name": "stdout",
     "output_type": "stream",
     "text": [
      "True\n",
      ">> a copy of the dictionary has not been made, thus dictionaries are mutable\n"
     ]
    }
   ],
   "source": [
    "dic1 = {1:'x', 2:'b'}\n",
    "dic2 = dic1\n",
    "dic2[1] = 'a'\n",
    "\n",
    "print(dic2 == dic1)\n",
    "print('>> a copy of the dictionary has not been made, thus dictionaries are mutable')"
   ]
  },
  {
   "cell_type": "code",
   "execution_count": 7,
   "metadata": {},
   "outputs": [
    {
     "data": {
      "text/plain": [
       "5.0"
      ]
     },
     "execution_count": 7,
     "metadata": {},
     "output_type": "execute_result"
    }
   ],
   "source": [
    "# Problem 3:\n",
    "\n",
    "import calculator as cl\n",
    "\n",
    "def get_hypotenuse(a, b):\n",
    "    return cl.sqrt(cl.sum(cl.mult(a,a),cl.mult(b,b)))\n",
    "\n",
    "get_hypotenuse(3,4)"
   ]
  },
  {
   "cell_type": "code",
   "execution_count": 10,
   "metadata": {},
   "outputs": [],
   "source": [
    "# Problem 4:\n",
    "\n",
    "import sys as sys\n",
    "import box as box\n",
    "import random as rn\n",
    "import numpy as np\n",
    "\n",
    "\n",
    "if __name__ == \"__main__\":\n",
    "\n",
    "    def box_game():\n",
    "\n",
    "        if len(sys.argv) == 2:\n",
    "            script, name = sys.argv\n",
    "        else:\n",
    "            script = sys.argv\n",
    "            name = input(\"Enter your name: \")\n",
    "\n",
    "        number_list = list(range(1,10))\n",
    "        valid = True\n",
    "\n",
    "        while valid == True:\n",
    "            \n",
    "            if np.sum(number_list) > 6:\n",
    "                roll = rn.randint(1,6) + rn.randint(1,6)\n",
    "                \n",
    "            else:\n",
    "                roll = rn.randint(1,6)\n",
    "            \n",
    "            print(\"Numbers remaining: \", number_list)\n",
    "            print(\"Roll: \", roll)   \n",
    "            valid = box.isvalid(roll, number_list)\n",
    "            \n",
    "            if not valid:\n",
    "                print(\"Game over!\")\n",
    "                print(\"Score for player \", name, \": \", np.sum(number_list), \" points\")\n",
    "                break\n",
    "            \n",
    "            else:\n",
    "                \n",
    "                player_input = input(\"Numbers to eliminate: \")\n",
    "                eliminate = box.parse_input(player_input, number_list)\n",
    "                \n",
    "                if np.sum(eliminate) != roll:\n",
    "                    while np.sum(eliminate) != roll:\n",
    "                        print(\"Invalid input\")\n",
    "                        player_input = input(\"Numbers to eliminate: \")\n",
    "                        eliminate = box.parse_input(player_input, number_list)\n",
    "        \n",
    "                number_list = [x for x in number_list if x not in eliminate]\n",
    "            \n",
    "                if np.sum(number_list) == 0:\n",
    "                    print(\"Score for player\", name, \": \", 0, \" points\")\n",
    "                    print(\"Congrats, you shut the box!\")\n",
    "                    break\n",
    "                    \n",
    "        return"
   ]
  },
  {
   "cell_type": "code",
   "execution_count": 17,
   "metadata": {},
   "outputs": [
    {
     "name": "stdout",
     "output_type": "stream",
     "text": [
      "Enter your name: Brando\n",
      "Numbers remaining:  [1, 2, 3, 4, 5, 6, 7, 8, 9]\n",
      "Roll:  7\n",
      "Numbers to eliminate: 7\n",
      "Numbers remaining:  [1, 2, 3, 4, 5, 6, 8, 9]\n",
      "Roll:  5\n",
      "Numbers to eliminate: 5\n",
      "Numbers remaining:  [1, 2, 3, 4, 6, 8, 9]\n",
      "Roll:  9\n",
      "Numbers to eliminate: 9\n",
      "Numbers remaining:  [1, 2, 3, 4, 6, 8]\n",
      "Roll:  8\n",
      "Numbers to eliminate: 8\n",
      "Numbers remaining:  [1, 2, 3, 4, 6]\n",
      "Roll:  11\n",
      "Numbers to eliminate: 6 3 2\n",
      "Numbers remaining:  [1, 4]\n",
      "Roll:  5\n",
      "Numbers to eliminate: 4 1\n",
      "Score for player Brando :  0  points\n",
      "Congrats, you shut the box!\n"
     ]
    }
   ],
   "source": [
    "box_game()"
   ]
  },
  {
   "cell_type": "code",
   "execution_count": 18,
   "metadata": {},
   "outputs": [
    {
     "name": "stdout",
     "output_type": "stream",
     "text": [
      "Enter your name: Brando\n",
      "Numbers remaining:  [1, 2, 3, 4, 5, 6, 7, 8, 9]\n",
      "Roll:  7\n",
      "Numbers to eliminate: 77\n",
      "Invalid input\n",
      "Numbers to eliminate: 77\n",
      "Invalid input\n",
      "Numbers to eliminate: 7\n",
      "Numbers remaining:  [1, 2, 3, 4, 5, 6, 8, 9]\n",
      "Roll:  9\n",
      "Numbers to eliminate: 9\n",
      "Numbers remaining:  [1, 2, 3, 4, 5, 6, 8]\n",
      "Roll:  8\n",
      "Numbers to eliminate: 8\n",
      "Numbers remaining:  [1, 2, 3, 4, 5, 6]\n",
      "Roll:  3\n",
      "Numbers to eliminate: 1 2\n",
      "Numbers remaining:  [3, 4, 5, 6]\n",
      "Roll:  7\n",
      "Numbers to eliminate: 4 3\n",
      "Numbers remaining:  [5, 6]\n",
      "Roll:  7\n",
      "Game over!\n",
      "Score for player  Brando :  11  points\n"
     ]
    }
   ],
   "source": [
    "box_game()"
   ]
  },
  {
   "cell_type": "code",
   "execution_count": null,
   "metadata": {
    "collapsed": true
   },
   "outputs": [],
   "source": []
  }
 ],
 "metadata": {
  "kernelspec": {
   "display_name": "Python 3",
   "language": "python",
   "name": "python3"
  },
  "language_info": {
   "codemirror_mode": {
    "name": "ipython",
    "version": 3
   },
   "file_extension": ".py",
   "mimetype": "text/x-python",
   "name": "python",
   "nbconvert_exporter": "python",
   "pygments_lexer": "ipython3",
   "version": "3.6.1"
  }
 },
 "nbformat": 4,
 "nbformat_minor": 2
}
