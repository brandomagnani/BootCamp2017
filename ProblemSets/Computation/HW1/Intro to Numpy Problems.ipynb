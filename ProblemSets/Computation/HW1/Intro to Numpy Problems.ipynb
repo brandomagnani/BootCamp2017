{
 "cells": [
  {
   "cell_type": "markdown",
   "metadata": {},
   "source": [
    "## Ildebrando Magnani\n",
    "\n",
    "* Intro to Numpy:"
   ]
  },
  {
   "cell_type": "code",
   "execution_count": 1,
   "metadata": {
    "collapsed": true
   },
   "outputs": [],
   "source": [
    "import numpy as np"
   ]
  },
  {
   "cell_type": "code",
   "execution_count": 9,
   "metadata": {},
   "outputs": [
    {
     "data": {
      "text/plain": [
       "array([[ 37,  14, -32, -10],\n",
       "       [-54,  -7,  58,  65]])"
      ]
     },
     "execution_count": 9,
     "metadata": {},
     "output_type": "execute_result"
    }
   ],
   "source": [
    "# Problem 1:\n",
    "\n",
    "A = np.array([[3, -1, 4],\n",
    "              [1, 5,  -9]])\n",
    "B = np.array([[2, 6, -5,   3],\n",
    "              [5, -8, 9,   7],\n",
    "              [9, -3, -2, -3]])\n",
    "\n",
    "def p1(M1, M2):\n",
    "    return M1.dot(M2)\n",
    "\n",
    "p1(A, B)"
   ]
  },
  {
   "cell_type": "code",
   "execution_count": 10,
   "metadata": {},
   "outputs": [
    {
     "data": {
      "text/plain": [
       "array([[0, 0, 0],\n",
       "       [0, 0, 0],\n",
       "       [0, 0, 0]])"
      ]
     },
     "execution_count": 10,
     "metadata": {},
     "output_type": "execute_result"
    }
   ],
   "source": [
    "# Problem 2:\n",
    "\n",
    "A = np.array([[ 3, 1, 4],\n",
    "              [ 1, 5, 9],\n",
    "              [-5, 3, 1]])\n",
    "\n",
    "def p2(M):\n",
    "    operator = -M@M@M + 9*M@M - 15*M\n",
    "    return operator\n",
    "\n",
    "p2(A)"
   ]
  },
  {
   "cell_type": "code",
   "execution_count": 11,
   "metadata": {},
   "outputs": [
    {
     "data": {
      "text/plain": [
       "array([[ -1,   4,  15,  32,  55,  84, 119],\n",
       "       [ -6,  -6,   0,  12,  30,  54,  84],\n",
       "       [ -5, -10,  -9,  -2,  11,  30,  55],\n",
       "       [ -4,  -8, -12, -10,  -2,  12,  32],\n",
       "       [ -3,  -6,  -9, -12,  -9,   0,  15],\n",
       "       [ -2,  -4,  -6,  -8, -10,  -6,   4],\n",
       "       [ -1,  -2,  -3,  -4,  -5,  -6,  -1]])"
      ]
     },
     "execution_count": 11,
     "metadata": {},
     "output_type": "execute_result"
    }
   ],
   "source": [
    "# Problem3:\n",
    "\n",
    "D = np.ones(7)\n",
    "E = np.zeros(7)\n",
    "upD = np.triu(D)\n",
    "\n",
    "A = E + upD\n",
    "\n",
    "G = np.full_like(D, -1)\n",
    "H = np.full_like(D, 6)\n",
    "upH = np.triu(H)\n",
    "\n",
    "B = G + upH\n",
    "\n",
    "def p3(M1, M2):\n",
    "    dot = (M1@M2)@M1\n",
    "    dot = dot.astype(np.int64)\n",
    "    return dot\n",
    "\n",
    "p3(A, B)"
   ]
  },
  {
   "cell_type": "code",
   "execution_count": 12,
   "metadata": {
    "collapsed": true
   },
   "outputs": [],
   "source": [
    "# Probelm 4:\n",
    "\n",
    "def p4(arr):\n",
    "    arrc = np.copy(arr)\n",
    "    arrc[arrc<0] = 0\n",
    "    return arrc"
   ]
  },
  {
   "cell_type": "code",
   "execution_count": 13,
   "metadata": {},
   "outputs": [
    {
     "data": {
      "text/plain": [
       "array([[ 0.,  0.,  0.,  0.,  1.,  1.,  0.,  0.],\n",
       "       [ 0.,  0.,  0.,  2.,  3.,  0.,  1.,  0.],\n",
       "       [ 0.,  0.,  0.,  4.,  5.,  0.,  0.,  1.],\n",
       "       [ 0.,  2.,  4.,  0.,  0.,  0.,  0.,  0.],\n",
       "       [ 1.,  3.,  5.,  0.,  0.,  0.,  0.,  0.],\n",
       "       [ 3.,  0.,  0.,  0.,  0., -2.,  0.,  0.],\n",
       "       [ 3.,  3.,  0.,  0.,  0.,  0., -2.,  0.],\n",
       "       [ 3.,  3.,  3.,  0.,  0.,  0.,  0., -2.]])"
      ]
     },
     "execution_count": 13,
     "metadata": {},
     "output_type": "execute_result"
    }
   ],
   "source": [
    "# Problem 5:\n",
    "\n",
    "A = np.array([[0, 2, 4],\n",
    "              [1, 3, 5]])\n",
    "B = np.array([[3, 0, 0],\n",
    "              [3, 3, 0],\n",
    "              [3, 3, 3]])\n",
    "C = np.array([[-2, 0 ,  0],\n",
    "              [0 , -2,  0],\n",
    "              [0 ,  0, -2]])\n",
    "\n",
    "def p5(A, B, C):\n",
    "    R1 = np.hstack((np.zeros((3,3)), A.T, np.identity(3)))\n",
    "    R2 = np.hstack((A, np.zeros((2,2)), np.zeros((2,3))))\n",
    "    R3 = np.hstack((B, np.zeros((3, 2)), C))\n",
    "    stacked = np.vstack((R1, R2, R3))\n",
    "    return stacked\n",
    "\n",
    "p5(A, B, C)"
   ]
  },
  {
   "cell_type": "code",
   "execution_count": 14,
   "metadata": {
    "collapsed": true
   },
   "outputs": [],
   "source": [
    "# Problem 6:\n",
    "\n",
    "def p6(A):\n",
    "    sum = A.astype(np.float64).sum(axis=1)\n",
    "    sum = sum.T\n",
    "    return A/sum"
   ]
  },
  {
   "cell_type": "code",
   "execution_count": 15,
   "metadata": {},
   "outputs": [
    {
     "name": "stdout",
     "output_type": "stream",
     "text": [
      "70600674  = max value\n"
     ]
    }
   ],
   "source": [
    "# Problem 7:\n",
    "\n",
    "grid = np.load(\"/Users/ildebrandomagnani/Desktop/BootCamp2017/Computation/Wk1_PyIntro/grid.npy\")\n",
    "\n",
    "def p7(grid):\n",
    "    a = np.max(grid[:,:-3] * grid[:,1:-2] * grid[:,2:-1] * grid[:,3:])\n",
    "    b = np.max(grid[:-3,:] * grid[1:-2,:] * grid[2:-1,:] * grid[3:,:])\n",
    "    c = np.max(grid[:-3,:-3] * grid[1:-2,1:-2] * grid[2:-1,2:-1] * grid[3:,3:])\n",
    "    d = np.max(grid[:-3,3:] * grid[1:-2,2:-1] * grid[2:-1,1:-2] *grid[3:,0:-3])\n",
    "    values = np.array([a, b, c, d])\n",
    "    max_val = np.max(values)\n",
    "    return max_val\n",
    "\n",
    "print(p7(grid), \" = max value\")"
   ]
  },
  {
   "cell_type": "code",
   "execution_count": null,
   "metadata": {
    "collapsed": true
   },
   "outputs": [],
   "source": []
  }
 ],
 "metadata": {
  "kernelspec": {
   "display_name": "Python 3",
   "language": "python",
   "name": "python3"
  },
  "language_info": {
   "codemirror_mode": {
    "name": "ipython",
    "version": 3
   },
   "file_extension": ".py",
   "mimetype": "text/x-python",
   "name": "python",
   "nbconvert_exporter": "python",
   "pygments_lexer": "ipython3",
   "version": "3.6.1"
  }
 },
 "nbformat": 4,
 "nbformat_minor": 2
}
