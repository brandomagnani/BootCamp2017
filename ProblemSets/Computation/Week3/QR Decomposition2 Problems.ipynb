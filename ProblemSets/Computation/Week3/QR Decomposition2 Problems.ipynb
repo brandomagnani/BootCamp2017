{
 "cells": [
  {
   "cell_type": "markdown",
   "metadata": {},
   "source": [
    "# Ildebrando Magnani\n",
    "\n",
    "#### QR Decomposition 2 Problems:\n"
   ]
  },
  {
   "cell_type": "code",
   "execution_count": 60,
   "metadata": {
    "collapsed": true
   },
   "outputs": [],
   "source": [
    "import numpy as np\n",
    "from scipy import linalg as la\n",
    "import matplotlib.pyplot as plt"
   ]
  },
  {
   "cell_type": "code",
   "execution_count": 55,
   "metadata": {},
   "outputs": [
    {
     "name": "stdout",
     "output_type": "stream",
     "text": [
      "[[-0.29884816]\n",
      " [ 1.8859157 ]]\n"
     ]
    }
   ],
   "source": [
    "# Problem 1\n",
    "\n",
    "def OLS(A, b):\n",
    "    m, n = A.shape\n",
    "    mm = len(b)\n",
    "    b = b.reshape((mm, 1))\n",
    "    if mm == m:\n",
    "        Q, R = np.linalg.qr(A)\n",
    "        y = Q.T @ b\n",
    "        x = la.solve(R, y)\n",
    "    else:\n",
    "        print(\"A and b not compatible\")\n",
    "    return x\n",
    "\n",
    "A = np.random.random((6, 2))\n",
    "b = np.random.random(6)\n",
    "x = OLS(A, b)\n",
    "print(x)"
   ]
  },
  {
   "cell_type": "code",
   "execution_count": 73,
   "metadata": {},
   "outputs": [],
   "source": [
    "# Problem 2\n",
    "\n",
    "data = np.load(\"/Users/ildebrandomagnani/Desktop/housing.npy\")\n",
    "year = data[:,0]\n",
    "index = data[:,1].reshape(len(index), 1)\n",
    "ones = np.ones_like(year)\n",
    "A = np.column_stack((year, ones))\n",
    "b = index"
   ]
  },
  {
   "cell_type": "code",
   "execution_count": 74,
   "metadata": {},
   "outputs": [],
   "source": [
    "beta_coeff = OLS(A, b)\n",
    "regr_lin = lambda x: beta_coeff[1] + beta_coeff[0] * x"
   ]
  },
  {
   "cell_type": "code",
   "execution_count": 75,
   "metadata": {},
   "outputs": [
    {
     "name": "stdout",
     "output_type": "stream",
     "text": [
      "[[   3.37476604]\n",
      " [ 164.08096257]]\n"
     ]
    }
   ],
   "source": [
    "print(beta_coeff)"
   ]
  },
  {
   "cell_type": "code",
   "execution_count": 76,
   "metadata": {},
   "outputs": [
    {
     "data": {
      "image/png": "[encoded data removed]",
      "text/plain": [
       "<matplotlib.figure.Figure at 0x1167f10f0>"
      ]
     },
     "metadata": {},
     "output_type": "display_data"
    }
   ],
   "source": [
    "fig, ax = plt.subplots(figsize=(8,8))\n",
    "\n",
    "plt.subplot(111)\n",
    "plt.plot(year, index, \"o\")\n",
    "plt.plot(year, regr_lin(year))\n",
    "plt.show()"
   ]
  },
  {
   "cell_type": "code",
   "execution_count": null,
   "metadata": {
    "collapsed": true
   },
   "outputs": [],
   "source": []
  }
 ],
 "metadata": {
  "kernelspec": {
   "display_name": "Python 3",
   "language": "python",
   "name": "python3"
  },
  "language_info": {
   "codemirror_mode": {
    "name": "ipython",
    "version": 3
   },
   "file_extension": ".py",
   "mimetype": "text/x-python",
   "name": "python",
   "nbconvert_exporter": "python",
   "pygments_lexer": "ipython3",
   "version": "3.6.1"
  }
 },
 "nbformat": 4,
 "nbformat_minor": 2
}
