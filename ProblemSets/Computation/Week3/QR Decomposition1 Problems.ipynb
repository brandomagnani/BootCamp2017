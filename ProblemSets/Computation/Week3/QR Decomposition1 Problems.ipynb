{
 "cells": [
  {
   "cell_type": "markdown",
   "metadata": {},
   "source": [
    "# Ildebrando Magnani\n",
    "\n",
    "#### QR Decomposition 1 Problems"
   ]
  },
  {
   "cell_type": "code",
   "execution_count": 2,
   "metadata": {
    "collapsed": true
   },
   "outputs": [],
   "source": [
    "import numpy as np\n",
    "from scipy import linalg as la"
   ]
  },
  {
   "cell_type": "code",
   "execution_count": 37,
   "metadata": {
    "collapsed": true
   },
   "outputs": [],
   "source": [
    "# Problem 1\n",
    "\n",
    "def mod_GS(A):\n",
    "    m, n = A.shape\n",
    "    Q = A.copy()\n",
    "    R = np.zeros((n, n))\n",
    "    for i in range(n):\n",
    "        R[i,i] = la.norm(Q[:,i])\n",
    "        Q[:,i] = Q[:,i] / R[i,i]\n",
    "        for j in range(i+1,n):\n",
    "            R[i,j] = Q[:,j].T @ Q[:,i]\n",
    "            Q[:,j] = Q[:,j] - R[i,j]*Q[:,i]\n",
    "    return Q, R\n",
    "    "
   ]
  },
  {
   "cell_type": "code",
   "execution_count": 78,
   "metadata": {},
   "outputs": [],
   "source": [
    "A = np.random.random((4, 4))"
   ]
  },
  {
   "cell_type": "code",
   "execution_count": 79,
   "metadata": {},
   "outputs": [
    {
     "name": "stdout",
     "output_type": "stream",
     "text": [
      "[[  1.00000000e+00   0.00000000e+00   8.88178420e-16   0.00000000e+00]\n",
      " [  5.55111512e-17   1.00000000e+00   0.00000000e+00  -1.11022302e-16]\n",
      " [  1.11022302e-16   4.44089210e-16   1.00000000e+00   1.11022302e-16]\n",
      " [ -2.22044605e-16  -4.44089210e-16  -3.33066907e-16   1.00000000e+00]]\n"
     ]
    }
   ],
   "source": [
    "Q, R = mod_GS(A)\n",
    "A_1 = la.inv(A)\n",
    "print(A_1@A)"
   ]
  },
  {
   "cell_type": "code",
   "execution_count": 80,
   "metadata": {},
   "outputs": [
    {
     "name": "stdout",
     "output_type": "stream",
     "text": [
      "[[  1.00000000e+00   4.44089210e-16  -3.46944695e-16   5.55111512e-17]\n",
      " [  4.44089210e-16   1.00000000e+00  -2.22044605e-16   4.16333634e-16]\n",
      " [ -3.46944695e-16  -2.22044605e-16   1.00000000e+00   0.00000000e+00]\n",
      " [  5.55111512e-17   4.16333634e-16   0.00000000e+00   1.00000000e+00]] Q^T Q\n",
      "[[ 0.486646    1.54743593  1.18568422  0.99443958]\n",
      " [ 0.          0.77179048  0.6965319   0.33801005]\n",
      " [ 0.          0.          0.55782875  0.29508616]\n",
      " [ 0.          0.          0.          0.17449575]] R\n",
      "[[ 0.31706999  0.76821722  0.93789777  0.76223957]\n",
      " [ 0.20050403  0.85231076  0.47083641  0.52807995]\n",
      " [ 0.30066177  0.89070428  0.36966945  0.32718034]\n",
      " [ 0.0754426   0.93822869  0.98192771  0.50374687]] Q R\n",
      "[[ 0.31706999  0.76821722  0.93789777  0.76223957]\n",
      " [ 0.20050403  0.85231076  0.47083641  0.52807995]\n",
      " [ 0.30066177  0.89070428  0.36966945  0.32718034]\n",
      " [ 0.0754426   0.93822869  0.98192771  0.50374687]] A\n"
     ]
    }
   ],
   "source": [
    "print(Q.T@Q, \"Q^T Q\")\n",
    "print(R, \"R\")\n",
    "print(Q@R, \"Q R\")\n",
    "print(A, \"A\")"
   ]
  },
  {
   "cell_type": "code",
   "execution_count": 99,
   "metadata": {},
   "outputs": [],
   "source": [
    "# Problem 2\n",
    "\n",
    "def det_QR(A):\n",
    "    m, n = A.shape\n",
    "    if la.det(A) != 0 and n == m:\n",
    "        Q, R = mod_GS(A)\n",
    "        R_diag = np.diagonal(R)\n",
    "        abs_det_A = np.abs(np.prod(R_diag))\n",
    "    else:\n",
    "        print(\"Input Matrix is not invertible\")\n",
    "    return abs_det_A"
   ]
  },
  {
   "cell_type": "code",
   "execution_count": 100,
   "metadata": {},
   "outputs": [
    {
     "name": "stdout",
     "output_type": "stream",
     "text": [
      "0.0365593376938\n",
      "0.03655933769377926\n"
     ]
    }
   ],
   "source": [
    "det_A = det_QR(A)\n",
    "print(det_A)\n",
    "print(la.det(A))"
   ]
  },
  {
   "cell_type": "code",
   "execution_count": 101,
   "metadata": {},
   "outputs": [],
   "source": [
    "# Problem 3\n",
    "\n",
    "def solve_QR(A, b):\n",
    "    m, n = A.shape\n",
    "    nn = len(b)\n",
    "    b = b.reshape(n, 1)\n",
    "    if la.det(A) != 0 and n == m == nn:\n",
    "        Q, R = mod_GS(A)\n",
    "        y = Q.T @ b\n",
    "        x = la.solve(R, y)\n",
    "    return x"
   ]
  },
  {
   "cell_type": "code",
   "execution_count": 102,
   "metadata": {
    "collapsed": true
   },
   "outputs": [],
   "source": [
    "b = np.random.random(4)"
   ]
  },
  {
   "cell_type": "code",
   "execution_count": 103,
   "metadata": {
    "collapsed": true
   },
   "outputs": [],
   "source": [
    "x = solve_QR(A, b)"
   ]
  },
  {
   "cell_type": "code",
   "execution_count": 104,
   "metadata": {},
   "outputs": [
    {
     "name": "stdout",
     "output_type": "stream",
     "text": [
      "[[ 0.97796503]\n",
      " [ 0.37076122]\n",
      " [ 0.06865832]\n",
      " [ 0.87018631]] Ax\n",
      "[[ 0.97796503]\n",
      " [ 0.37076122]\n",
      " [ 0.06865832]\n",
      " [ 0.87018631]] b\n"
     ]
    }
   ],
   "source": [
    "print(A@x, \"Ax\")\n",
    "print(b.reshape(4, 1), \"b\")"
   ]
  },
  {
   "cell_type": "code",
   "execution_count": 127,
   "metadata": {},
   "outputs": [],
   "source": [
    "# Problem 4\n",
    "\n",
    "def HH(A):\n",
    "    m, n = A.shape\n",
    "    R = A.copy()\n",
    "    Q = np.identity(m)\n",
    "    sign = lambda x: 1 if x >= 0 else -1\n",
    "    for k in range(n):\n",
    "        u = R[k:,k]\n",
    "        u[0] = u[0] + sign(u[0])*la.norm(u)\n",
    "        u = u / la.norm(u)\n",
    "        R[k:,k:] = R[k:,k:] - 2*np.outer(u, u.T@R[k:,k:])\n",
    "        Q[k:,:] = Q[k:,:] - 2*np.outer(u, u.T@Q[k:,:])\n",
    "    return Q.T, R"
   ]
  },
  {
   "cell_type": "code",
   "execution_count": null,
   "metadata": {
    "collapsed": true
   },
   "outputs": [],
   "source": []
  }
 ],
 "metadata": {
  "kernelspec": {
   "display_name": "Python 3",
   "language": "python",
   "name": "python3"
  },
  "language_info": {
   "codemirror_mode": {
    "name": "ipython",
    "version": 3
   },
   "file_extension": ".py",
   "mimetype": "text/x-python",
   "name": "python",
   "nbconvert_exporter": "python",
   "pygments_lexer": "ipython3",
   "version": "3.6.1"
  }
 },
 "nbformat": 4,
 "nbformat_minor": 2
}
